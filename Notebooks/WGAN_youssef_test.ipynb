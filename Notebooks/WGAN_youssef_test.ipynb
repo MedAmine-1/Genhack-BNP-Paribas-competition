{
 "cells": [
  {
   "cell_type": "code",
   "execution_count": 529,
   "metadata": {},
   "outputs": [],
   "source": [
    "# example of a wgan for generating handwritten digits\n",
    "from numpy import expand_dims\n",
    "from numpy import mean\n",
    "from numpy import ones\n",
    "from numpy.random import randn\n",
    "from numpy.random import randint\n",
    "from keras.datasets.mnist import load_data\n",
    "from keras import backend\n",
    "from tensorflow.keras.optimizers import RMSprop\n",
    "from keras.models import Sequential\n",
    "from keras.layers import Dense\n",
    "from keras.layers import Reshape\n",
    "from keras.layers import Flatten\n",
    "from keras.layers import Conv2D\n",
    "from keras.layers import Conv2DTranspose\n",
    "from keras.layers import LeakyReLU\n",
    "from keras.layers import BatchNormalization\n",
    "from keras.initializers import RandomNormal\n",
    "from keras.constraints import Constraint\n",
    "from matplotlib import pyplot\n",
    "import pandas as pd\n",
    "import numpy as np\n",
    "import plotly.express as px "
   ]
  },
  {
   "cell_type": "code",
   "execution_count": 530,
   "metadata": {},
   "outputs": [
    {
     "data": {
      "text/plain": [
       "(array([[0.01143886, 0.00269057],\n",
       "        [0.00063166, 0.0072774 ],\n",
       "        [0.01782796, 0.02821015],\n",
       "        ...,\n",
       "        [0.00768299, 0.00195759],\n",
       "        [0.00339559, 0.00127959],\n",
       "        [0.0045912 , 0.00667492]]),\n",
       " (745, 2))"
      ]
     },
     "execution_count": 530,
     "metadata": {},
     "output_type": "execute_result"
    }
   ],
   "source": [
    "df1 = pd.read_csv (\"../Data/train.csv\")\n",
    "df = np.array(df1)[:,1:]\n",
    "df = df[:, [0, 1]]\n",
    "df, df.shape"
   ]
  },
  {
   "cell_type": "code",
   "execution_count": 531,
   "metadata": {},
   "outputs": [],
   "source": [
    "# calculate wasserstein loss\n",
    "def wasserstein_loss(y_true, y_pred):\n",
    "\treturn backend.mean(y_true * y_pred)"
   ]
  },
  {
   "cell_type": "code",
   "execution_count": 532,
   "metadata": {},
   "outputs": [
    {
     "name": "stdout",
     "output_type": "stream",
     "text": [
      "Model: \"model_73\"\n",
      "_________________________________________________________________\n",
      "Layer (type)                 Output Shape              Param #   \n",
      "=================================================================\n",
      "input_85 (InputLayer)        [(None, 2)]               0         \n",
      "_________________________________________________________________\n",
      "dense_299 (Dense)            (None, 128)               384       \n",
      "_________________________________________________________________\n",
      "dense_300 (Dense)            (None, 256)               33024     \n",
      "_________________________________________________________________\n",
      "dense_301 (Dense)            (None, 512)               131584    \n",
      "_________________________________________________________________\n",
      "dense_302 (Dense)            (None, 2)                 1026      \n",
      "=================================================================\n",
      "Total params: 166,018\n",
      "Trainable params: 166,018\n",
      "Non-trainable params: 0\n",
      "_________________________________________________________________\n"
     ]
    },
    {
     "name": "stderr",
     "output_type": "stream",
     "text": [
      "C:\\Users\\BEN ALLAL\\AppData\\Local\\Programs\\Python\\Python39\\lib\\site-packages\\keras\\optimizer_v2\\optimizer_v2.py:355: UserWarning:\n",
      "\n",
      "The `lr` argument is deprecated, use `learning_rate` instead.\n",
      "\n"
     ]
    }
   ],
   "source": [
    "def define_generator(G_in, dim=128, out_dim=2, lr=1e-3):\n",
    "    x = Dense(dim)(G_in)\n",
    "    x = Dense(dim*2)(x)\n",
    "    x = Dense(dim*4)(x)\n",
    "    G_out = Dense(out_dim)(x)\n",
    "    G = Model(G_in, G_out)\n",
    "    opt = RMSprop(lr=lr)\n",
    "    G.compile(loss=wasserstein_loss, optimizer=opt)\n",
    "    return G,G_out\n",
    "\n",
    "G_in = Input(shape=[2])\n",
    "G, G_out = define_generator(G_in)\n",
    "G.summary()"
   ]
  },
  {
   "cell_type": "code",
   "execution_count": 533,
   "metadata": {},
   "outputs": [
    {
     "name": "stdout",
     "output_type": "stream",
     "text": [
      "Model: \"model_74\"\n",
      "_________________________________________________________________\n",
      "Layer (type)                 Output Shape              Param #   \n",
      "=================================================================\n",
      "input_86 (InputLayer)        [(None, 2)]               0         \n",
      "_________________________________________________________________\n",
      "dense_303 (Dense)            (None, 512)               1536      \n",
      "_________________________________________________________________\n",
      "dropout_54 (Dropout)         (None, 512)               0         \n",
      "_________________________________________________________________\n",
      "dense_304 (Dense)            (None, 256)               131328    \n",
      "_________________________________________________________________\n",
      "dropout_55 (Dropout)         (None, 256)               0         \n",
      "_________________________________________________________________\n",
      "dense_305 (Dense)            (None, 128)               32896     \n",
      "_________________________________________________________________\n",
      "dense_306 (Dense)            (None, 1)                 129       \n",
      "=================================================================\n",
      "Total params: 165,889\n",
      "Trainable params: 165,889\n",
      "Non-trainable params: 0\n",
      "_________________________________________________________________\n"
     ]
    }
   ],
   "source": [
    "# define the standalone critic model\n",
    "def define_critic(D_in,dim=128,out_dim=1,lr=1e-3):\n",
    "\tconst = ClipConstraint(0.01)\n",
    "\tx = Dense(dim * 4)(D_in)\n",
    "\tx = Dropout(0.1)(x)\n",
    "\tx = Dense(dim * 2)(x)\n",
    "\tx = Dropout(0.1)(x)\n",
    "\tx = Dense(dim)(x)\n",
    "\tD_out = Dense(out_dim)(x)\n",
    "\tD = Model(D_in, D_out)\n",
    "\topt = RMSprop(lr=lr)\n",
    "\tD.compile(loss=wasserstein_loss, optimizer=opt)\n",
    "\treturn D,D_out\n",
    "\n",
    "D_in = Input(shape=[2])\n",
    "D, D_out = define_critic(D_in)\n",
    "D.summary()"
   ]
  },
  {
   "cell_type": "code",
   "execution_count": 534,
   "metadata": {},
   "outputs": [
    {
     "name": "stdout",
     "output_type": "stream",
     "text": [
      "Model: \"model_75\"\n",
      "_________________________________________________________________\n",
      "Layer (type)                 Output Shape              Param #   \n",
      "=================================================================\n",
      "input_87 (InputLayer)        [(None, 2)]               0         \n",
      "_________________________________________________________________\n",
      "model_73 (Functional)        (None, 2)                 166018    \n",
      "_________________________________________________________________\n",
      "model_74 (Functional)        (None, 1)                 165889    \n",
      "=================================================================\n",
      "Total params: 331,907\n",
      "Trainable params: 166,018\n",
      "Non-trainable params: 165,889\n",
      "_________________________________________________________________\n"
     ]
    }
   ],
   "source": [
    "def set_trainability(model, trainable=False):\n",
    "    model.trainable = trainable\n",
    "    for layer in model.layers:\n",
    "        layer.trainable = trainable\n",
    "        \n",
    "def define_gan(GAN_in, G, D):\n",
    "    set_trainability(D, False)\n",
    "    x = G(GAN_in)\n",
    "    GAN_out = D(x)\n",
    "    GAN = Model(GAN_in, GAN_out)\n",
    "    GAN.compile(loss=wasserstein_loss, optimizer=G.optimizer)\n",
    "    return GAN, GAN_out\n",
    "\n",
    "GAN_in = Input([2])\n",
    "GAN, GAN_out = define_gan(GAN_in, G, D)\n",
    "GAN.summary()"
   ]
  },
  {
   "cell_type": "code",
   "execution_count": 535,
   "metadata": {},
   "outputs": [],
   "source": [
    "def train(GAN, G, D, epochs, batch_size=1,latent_dim=4,verbose=False):\n",
    "    valid = -np.ones((batch_size, 1))\n",
    "    fake = np.ones((batch_size, 1))\n",
    "    d_loss = []\n",
    "    g_loss = []\n",
    "    clip_value = 0.01\n",
    "    n_critic = 5\n",
    "    e_range = range(epochs)\n",
    "    f = open('loss_logs.csv','w')\n",
    "    f.write('Epoch,Discriminator Loss,Generator Loss\\n')\n",
    "\n",
    "    if verbose:\n",
    "        e_range = tqdm(e_range)\n",
    "    for epoch in e_range:\n",
    "        for _ in range(n_critic):\n",
    "            idx = np.random.randint(0, df.shape[0], batch_size)\n",
    "            batch_data = df[idx]\n",
    "                \n",
    "            # Sample noise as generator input\n",
    "            noise = np.random.normal(-1, 1, (batch_size, latent_dim))\n",
    "\n",
    "            # Generate a batch of new images\n",
    "            gen_data = G.predict(noise)\n",
    "            \n",
    "            d_loss_real = D.train_on_batch(batch_data, valid)\n",
    "            d_loss_fake = D.train_on_batch(gen_data, fake)\n",
    "            d_loss = 0.5 * np.add(d_loss_fake, d_loss_real)\n",
    "            \n",
    "            for l in D.layers:\n",
    "                weights = l.get_weights()\n",
    "                weights = [np.clip(w, -clip_value, clip_value) for w in weights]\n",
    "                l.set_weights(weights)\n",
    "            \n",
    "        g_loss = GAN.train_on_batch(noise, valid)\n",
    "\n",
    "        # Plot the progress\n",
    "        print (\"%d [D loss: %f] [G loss: %f]\" % (epoch, d_loss, g_loss))\n",
    "        f.write(\"%d,%f,%f\\n\"%(epoch,d_loss,g_loss))"
   ]
  },
  {
   "cell_type": "code",
   "execution_count": 536,
   "metadata": {},
   "outputs": [
    {
     "name": "stdout",
     "output_type": "stream",
     "text": [
      "0 [D loss: 0.000992] [G loss: -0.002269]\n",
      "1 [D loss: 0.004183] [G loss: -0.003881]\n",
      "2 [D loss: 0.011038] [G loss: -0.010478]\n",
      "3 [D loss: -0.106620] [G loss: 0.352194]\n",
      "4 [D loss: -0.170291] [G loss: 0.469816]\n",
      "5 [D loss: 0.030136] [G loss: -0.041948]\n",
      "6 [D loss: -0.484465] [G loss: 1.089784]\n",
      "7 [D loss: 0.019768] [G loss: -0.032022]\n",
      "8 [D loss: 0.017463] [G loss: -0.026331]\n",
      "9 [D loss: 0.011532] [G loss: -0.015268]\n",
      "10 [D loss: 0.001929] [G loss: -0.003554]\n",
      "11 [D loss: 0.001196] [G loss: -0.002204]\n",
      "12 [D loss: 0.000424] [G loss: -0.001016]\n",
      "13 [D loss: 0.000662] [G loss: -0.000880]\n",
      "14 [D loss: -0.019533] [G loss: 0.071593]\n",
      "15 [D loss: 0.002255] [G loss: -0.006270]\n",
      "16 [D loss: 0.000822] [G loss: -0.002663]\n",
      "17 [D loss: 0.000734] [G loss: -0.000241]\n",
      "18 [D loss: -0.000028] [G loss: 0.000396]\n",
      "19 [D loss: 0.000830] [G loss: -0.001605]\n",
      "20 [D loss: 0.000817] [G loss: -0.001202]\n",
      "21 [D loss: 0.000684] [G loss: -0.001398]\n",
      "22 [D loss: 0.000490] [G loss: -0.001276]\n",
      "23 [D loss: 0.000498] [G loss: -0.001293]\n",
      "24 [D loss: 0.000485] [G loss: 0.004554]\n",
      "25 [D loss: 0.000368] [G loss: 0.001928]\n",
      "26 [D loss: 0.000509] [G loss: -0.001363]\n",
      "27 [D loss: 0.000527] [G loss: -0.001338]\n",
      "28 [D loss: 0.000636] [G loss: -0.001515]\n",
      "29 [D loss: 0.000522] [G loss: -0.001395]\n",
      "30 [D loss: 0.000498] [G loss: -0.001332]\n",
      "31 [D loss: 0.000525] [G loss: -0.001393]\n",
      "32 [D loss: 0.000574] [G loss: -0.001382]\n",
      "33 [D loss: 0.000517] [G loss: -0.001405]\n",
      "34 [D loss: 0.000513] [G loss: -0.001374]\n",
      "35 [D loss: 0.000507] [G loss: -0.001304]\n",
      "36 [D loss: -0.000864] [G loss: 0.019518]\n",
      "37 [D loss: 0.000497] [G loss: -0.001484]\n",
      "38 [D loss: 0.001932] [G loss: -0.002179]\n",
      "39 [D loss: 0.000775] [G loss: -0.001554]\n",
      "40 [D loss: 0.000534] [G loss: -0.001205]\n",
      "41 [D loss: 0.000480] [G loss: -0.000971]\n",
      "42 [D loss: 0.000415] [G loss: 0.002013]\n",
      "43 [D loss: 0.000945] [G loss: -0.001445]\n",
      "44 [D loss: 0.000835] [G loss: -0.001353]\n",
      "45 [D loss: 0.000321] [G loss: 0.001465]\n",
      "46 [D loss: 0.000537] [G loss: -0.001394]\n",
      "47 [D loss: 0.000556] [G loss: -0.001233]\n",
      "48 [D loss: 0.000827] [G loss: -0.001265]\n",
      "49 [D loss: 0.000557] [G loss: -0.001391]\n",
      "50 [D loss: 0.000564] [G loss: -0.001392]\n",
      "51 [D loss: 0.000539] [G loss: -0.001394]\n",
      "52 [D loss: 0.000672] [G loss: -0.001235]\n",
      "53 [D loss: 0.000510] [G loss: -0.001274]\n",
      "54 [D loss: 0.000502] [G loss: -0.001269]\n",
      "55 [D loss: 0.000634] [G loss: -0.001338]\n",
      "56 [D loss: 0.000603] [G loss: -0.001234]\n",
      "57 [D loss: 0.000506] [G loss: -0.001329]\n",
      "58 [D loss: 0.000529] [G loss: -0.001391]\n",
      "59 [D loss: 0.000513] [G loss: -0.001396]\n",
      "60 [D loss: 0.000525] [G loss: -0.001298]\n",
      "61 [D loss: 0.000990] [G loss: -0.000857]\n",
      "62 [D loss: 0.000507] [G loss: -0.001375]\n",
      "63 [D loss: 0.000525] [G loss: -0.001391]\n",
      "64 [D loss: 0.000684] [G loss: -0.000916]\n",
      "65 [D loss: 0.000487] [G loss: -0.001256]\n",
      "66 [D loss: 0.000665] [G loss: -0.001176]\n",
      "67 [D loss: 0.000516] [G loss: -0.001364]\n",
      "68 [D loss: 0.000504] [G loss: -0.001394]\n",
      "69 [D loss: 0.000546] [G loss: -0.001396]\n",
      "70 [D loss: 0.000547] [G loss: -0.001386]\n",
      "71 [D loss: 0.000579] [G loss: -0.001398]\n",
      "72 [D loss: 0.001382] [G loss: -0.000751]\n",
      "73 [D loss: 0.000501] [G loss: -0.001387]\n",
      "74 [D loss: 0.000542] [G loss: -0.000812]\n",
      "75 [D loss: 0.000521] [G loss: -0.001392]\n",
      "76 [D loss: 0.000539] [G loss: -0.001387]\n",
      "77 [D loss: 0.000548] [G loss: -0.001362]\n",
      "78 [D loss: 0.000514] [G loss: -0.001393]\n",
      "79 [D loss: 0.000602] [G loss: -0.001338]\n",
      "80 [D loss: 0.000568] [G loss: -0.001388]\n",
      "81 [D loss: 0.000501] [G loss: -0.001392]\n",
      "82 [D loss: 0.000583] [G loss: -0.001387]\n",
      "83 [D loss: 0.000558] [G loss: -0.001409]\n",
      "84 [D loss: 0.000556] [G loss: -0.001241]\n",
      "85 [D loss: 0.000560] [G loss: -0.001352]\n",
      "86 [D loss: 0.000530] [G loss: -0.001371]\n",
      "87 [D loss: 0.000546] [G loss: -0.001372]\n",
      "88 [D loss: 0.000589] [G loss: -0.001351]\n",
      "89 [D loss: 0.000696] [G loss: -0.001387]\n",
      "90 [D loss: 0.000531] [G loss: -0.001395]\n",
      "91 [D loss: 0.000521] [G loss: -0.001377]\n",
      "92 [D loss: 0.000631] [G loss: -0.001442]\n",
      "93 [D loss: 0.000609] [G loss: -0.001394]\n",
      "94 [D loss: 0.000506] [G loss: -0.001391]\n",
      "95 [D loss: 0.000628] [G loss: -0.001307]\n",
      "96 [D loss: 0.000632] [G loss: -0.001214]\n",
      "97 [D loss: 0.000576] [G loss: -0.001395]\n",
      "98 [D loss: 0.000514] [G loss: -0.001394]\n",
      "99 [D loss: 0.000580] [G loss: -0.001392]\n"
     ]
    }
   ],
   "source": [
    "train(GAN, G, D, epochs=100, batch_size=1,latent_dim=2,verbose=False)"
   ]
  },
  {
   "cell_type": "code",
   "execution_count": 537,
   "metadata": {},
   "outputs": [
    {
     "data": {
      "application/vnd.plotly.v1+json": {
       "config": {
        "plotlyServerURL": "https://plot.ly"
       },
       "data": [
        {
         "hovertemplate": "variable=Discriminator Loss<br>Epoch=%{x}<br>value=%{y}<extra></extra>",
         "legendgroup": "Discriminator Loss",
         "line": {
          "color": "#636efa",
          "dash": "solid"
         },
         "marker": {
          "symbol": "circle"
         },
         "mode": "lines",
         "name": "Discriminator Loss",
         "orientation": "v",
         "showlegend": true,
         "type": "scatter",
         "x": [
          0,
          1,
          2,
          3,
          4,
          5,
          6,
          7,
          8,
          9,
          10,
          11,
          12,
          13,
          14,
          15,
          16,
          17,
          18,
          19,
          20,
          21,
          22,
          23,
          24,
          25,
          26,
          27,
          28,
          29,
          30,
          31,
          32,
          33,
          34,
          35,
          36,
          37,
          38,
          39,
          40,
          41,
          42,
          43,
          44,
          45,
          46,
          47,
          48,
          49,
          50,
          51,
          52,
          53,
          54,
          55,
          56,
          57,
          58,
          59,
          60,
          61,
          62,
          63,
          64,
          65,
          66,
          67,
          68,
          69,
          70,
          71,
          72,
          73,
          74,
          75,
          76,
          77,
          78,
          79,
          80,
          81,
          82,
          83,
          84,
          85,
          86,
          87,
          88,
          89,
          90,
          91,
          92,
          93,
          94,
          95,
          96,
          97,
          98,
          99
         ],
         "xaxis": "x",
         "y": [
          0.000992,
          0.004183,
          0.011038,
          -0.10662,
          -0.170291,
          0.030136,
          -0.484465,
          0.019768,
          0.017463,
          0.011532,
          0.001929,
          0.001196,
          0.000424,
          0.000662,
          -0.019533,
          0.002255,
          0.000822,
          0.000734,
          -0.000028,
          0.00083,
          0.000817,
          0.000684,
          0.00049,
          0.000498,
          0.000485,
          0.000368,
          0.000509,
          0.000527,
          0.000636,
          0.000522,
          0.000498,
          0.000525,
          0.000574,
          0.000517,
          0.000513,
          0.000507,
          -0.000864,
          0.000497,
          0.001932,
          0.000775,
          0.000534,
          0.00048,
          0.000415,
          0.000945,
          0.000835,
          0.000321,
          0.000537,
          0.000556,
          0.000827,
          0.000557,
          0.000564,
          0.000539,
          0.000672,
          0.00051,
          0.000502,
          0.000634,
          0.000603,
          0.000506,
          0.000529,
          0.000513,
          0.000525,
          0.00099,
          0.000507,
          0.000525,
          0.000684,
          0.000487,
          0.000665,
          0.000516,
          0.000504,
          0.000546,
          0.000547,
          0.000579,
          0.001382,
          0.000501,
          0.000542,
          0.000521,
          0.000539,
          0.000548,
          0.000514,
          0.000602,
          0.000568,
          0.000501,
          0.000583,
          0.000558,
          0.000556,
          0.00056,
          0.00053,
          0.000546,
          0.000589,
          0.000696,
          0.000531,
          0.000521,
          0.000631,
          0.000609,
          0.000506,
          0.000628,
          0.000632,
          0.000576,
          0.000514,
          0.00058
         ],
         "yaxis": "y"
        },
        {
         "hovertemplate": "variable=Generator Loss<br>Epoch=%{x}<br>value=%{y}<extra></extra>",
         "legendgroup": "Generator Loss",
         "line": {
          "color": "#EF553B",
          "dash": "solid"
         },
         "marker": {
          "symbol": "circle"
         },
         "mode": "lines",
         "name": "Generator Loss",
         "orientation": "v",
         "showlegend": true,
         "type": "scatter",
         "x": [
          0,
          1,
          2,
          3,
          4,
          5,
          6,
          7,
          8,
          9,
          10,
          11,
          12,
          13,
          14,
          15,
          16,
          17,
          18,
          19,
          20,
          21,
          22,
          23,
          24,
          25,
          26,
          27,
          28,
          29,
          30,
          31,
          32,
          33,
          34,
          35,
          36,
          37,
          38,
          39,
          40,
          41,
          42,
          43,
          44,
          45,
          46,
          47,
          48,
          49,
          50,
          51,
          52,
          53,
          54,
          55,
          56,
          57,
          58,
          59,
          60,
          61,
          62,
          63,
          64,
          65,
          66,
          67,
          68,
          69,
          70,
          71,
          72,
          73,
          74,
          75,
          76,
          77,
          78,
          79,
          80,
          81,
          82,
          83,
          84,
          85,
          86,
          87,
          88,
          89,
          90,
          91,
          92,
          93,
          94,
          95,
          96,
          97,
          98,
          99
         ],
         "xaxis": "x",
         "y": [
          -0.002269,
          -0.003881,
          -0.010478,
          0.352194,
          0.469816,
          -0.041948,
          1.089784,
          -0.032022,
          -0.026331,
          -0.015268,
          -0.003554,
          -0.002204,
          -0.001016,
          -0.00088,
          0.071593,
          -0.00627,
          -0.002663,
          -0.000241,
          0.000396,
          -0.001605,
          -0.001202,
          -0.001398,
          -0.001276,
          -0.001293,
          0.004554,
          0.001928,
          -0.001363,
          -0.001338,
          -0.001515,
          -0.001395,
          -0.001332,
          -0.001393,
          -0.001382,
          -0.001405,
          -0.001374,
          -0.001304,
          0.019518,
          -0.001484,
          -0.002179,
          -0.001554,
          -0.001205,
          -0.000971,
          0.002013,
          -0.001445,
          -0.001353,
          0.001465,
          -0.001394,
          -0.001233,
          -0.001265,
          -0.001391,
          -0.001392,
          -0.001394,
          -0.001235,
          -0.001274,
          -0.001269,
          -0.001338,
          -0.001234,
          -0.001329,
          -0.001391,
          -0.001396,
          -0.001298,
          -0.000857,
          -0.001375,
          -0.001391,
          -0.000916,
          -0.001256,
          -0.001176,
          -0.001364,
          -0.001394,
          -0.001396,
          -0.001386,
          -0.001398,
          -0.000751,
          -0.001387,
          -0.000812,
          -0.001392,
          -0.001387,
          -0.001362,
          -0.001393,
          -0.001338,
          -0.001388,
          -0.001392,
          -0.001387,
          -0.001409,
          -0.001241,
          -0.001352,
          -0.001371,
          -0.001372,
          -0.001351,
          -0.001387,
          -0.001395,
          -0.001377,
          -0.001442,
          -0.001394,
          -0.001391,
          -0.001307,
          -0.001214,
          -0.001395,
          -0.001394,
          -0.001392
         ],
         "yaxis": "y"
        }
       ],
       "layout": {
        "legend": {
         "title": {
          "text": "variable"
         },
         "tracegroupgap": 0
        },
        "margin": {
         "t": 60
        },
        "template": {
         "data": {
          "bar": [
           {
            "error_x": {
             "color": "#2a3f5f"
            },
            "error_y": {
             "color": "#2a3f5f"
            },
            "marker": {
             "line": {
              "color": "#E5ECF6",
              "width": 0.5
             },
             "pattern": {
              "fillmode": "overlay",
              "size": 10,
              "solidity": 0.2
             }
            },
            "type": "bar"
           }
          ],
          "barpolar": [
           {
            "marker": {
             "line": {
              "color": "#E5ECF6",
              "width": 0.5
             },
             "pattern": {
              "fillmode": "overlay",
              "size": 10,
              "solidity": 0.2
             }
            },
            "type": "barpolar"
           }
          ],
          "carpet": [
           {
            "aaxis": {
             "endlinecolor": "#2a3f5f",
             "gridcolor": "white",
             "linecolor": "white",
             "minorgridcolor": "white",
             "startlinecolor": "#2a3f5f"
            },
            "baxis": {
             "endlinecolor": "#2a3f5f",
             "gridcolor": "white",
             "linecolor": "white",
             "minorgridcolor": "white",
             "startlinecolor": "#2a3f5f"
            },
            "type": "carpet"
           }
          ],
          "choropleth": [
           {
            "colorbar": {
             "outlinewidth": 0,
             "ticks": ""
            },
            "type": "choropleth"
           }
          ],
          "contour": [
           {
            "colorbar": {
             "outlinewidth": 0,
             "ticks": ""
            },
            "colorscale": [
             [
              0,
              "#0d0887"
             ],
             [
              0.1111111111111111,
              "#46039f"
             ],
             [
              0.2222222222222222,
              "#7201a8"
             ],
             [
              0.3333333333333333,
              "#9c179e"
             ],
             [
              0.4444444444444444,
              "#bd3786"
             ],
             [
              0.5555555555555556,
              "#d8576b"
             ],
             [
              0.6666666666666666,
              "#ed7953"
             ],
             [
              0.7777777777777778,
              "#fb9f3a"
             ],
             [
              0.8888888888888888,
              "#fdca26"
             ],
             [
              1,
              "#f0f921"
             ]
            ],
            "type": "contour"
           }
          ],
          "contourcarpet": [
           {
            "colorbar": {
             "outlinewidth": 0,
             "ticks": ""
            },
            "type": "contourcarpet"
           }
          ],
          "heatmap": [
           {
            "colorbar": {
             "outlinewidth": 0,
             "ticks": ""
            },
            "colorscale": [
             [
              0,
              "#0d0887"
             ],
             [
              0.1111111111111111,
              "#46039f"
             ],
             [
              0.2222222222222222,
              "#7201a8"
             ],
             [
              0.3333333333333333,
              "#9c179e"
             ],
             [
              0.4444444444444444,
              "#bd3786"
             ],
             [
              0.5555555555555556,
              "#d8576b"
             ],
             [
              0.6666666666666666,
              "#ed7953"
             ],
             [
              0.7777777777777778,
              "#fb9f3a"
             ],
             [
              0.8888888888888888,
              "#fdca26"
             ],
             [
              1,
              "#f0f921"
             ]
            ],
            "type": "heatmap"
           }
          ],
          "heatmapgl": [
           {
            "colorbar": {
             "outlinewidth": 0,
             "ticks": ""
            },
            "colorscale": [
             [
              0,
              "#0d0887"
             ],
             [
              0.1111111111111111,
              "#46039f"
             ],
             [
              0.2222222222222222,
              "#7201a8"
             ],
             [
              0.3333333333333333,
              "#9c179e"
             ],
             [
              0.4444444444444444,
              "#bd3786"
             ],
             [
              0.5555555555555556,
              "#d8576b"
             ],
             [
              0.6666666666666666,
              "#ed7953"
             ],
             [
              0.7777777777777778,
              "#fb9f3a"
             ],
             [
              0.8888888888888888,
              "#fdca26"
             ],
             [
              1,
              "#f0f921"
             ]
            ],
            "type": "heatmapgl"
           }
          ],
          "histogram": [
           {
            "marker": {
             "pattern": {
              "fillmode": "overlay",
              "size": 10,
              "solidity": 0.2
             }
            },
            "type": "histogram"
           }
          ],
          "histogram2d": [
           {
            "colorbar": {
             "outlinewidth": 0,
             "ticks": ""
            },
            "colorscale": [
             [
              0,
              "#0d0887"
             ],
             [
              0.1111111111111111,
              "#46039f"
             ],
             [
              0.2222222222222222,
              "#7201a8"
             ],
             [
              0.3333333333333333,
              "#9c179e"
             ],
             [
              0.4444444444444444,
              "#bd3786"
             ],
             [
              0.5555555555555556,
              "#d8576b"
             ],
             [
              0.6666666666666666,
              "#ed7953"
             ],
             [
              0.7777777777777778,
              "#fb9f3a"
             ],
             [
              0.8888888888888888,
              "#fdca26"
             ],
             [
              1,
              "#f0f921"
             ]
            ],
            "type": "histogram2d"
           }
          ],
          "histogram2dcontour": [
           {
            "colorbar": {
             "outlinewidth": 0,
             "ticks": ""
            },
            "colorscale": [
             [
              0,
              "#0d0887"
             ],
             [
              0.1111111111111111,
              "#46039f"
             ],
             [
              0.2222222222222222,
              "#7201a8"
             ],
             [
              0.3333333333333333,
              "#9c179e"
             ],
             [
              0.4444444444444444,
              "#bd3786"
             ],
             [
              0.5555555555555556,
              "#d8576b"
             ],
             [
              0.6666666666666666,
              "#ed7953"
             ],
             [
              0.7777777777777778,
              "#fb9f3a"
             ],
             [
              0.8888888888888888,
              "#fdca26"
             ],
             [
              1,
              "#f0f921"
             ]
            ],
            "type": "histogram2dcontour"
           }
          ],
          "mesh3d": [
           {
            "colorbar": {
             "outlinewidth": 0,
             "ticks": ""
            },
            "type": "mesh3d"
           }
          ],
          "parcoords": [
           {
            "line": {
             "colorbar": {
              "outlinewidth": 0,
              "ticks": ""
             }
            },
            "type": "parcoords"
           }
          ],
          "pie": [
           {
            "automargin": true,
            "type": "pie"
           }
          ],
          "scatter": [
           {
            "marker": {
             "colorbar": {
              "outlinewidth": 0,
              "ticks": ""
             }
            },
            "type": "scatter"
           }
          ],
          "scatter3d": [
           {
            "line": {
             "colorbar": {
              "outlinewidth": 0,
              "ticks": ""
             }
            },
            "marker": {
             "colorbar": {
              "outlinewidth": 0,
              "ticks": ""
             }
            },
            "type": "scatter3d"
           }
          ],
          "scattercarpet": [
           {
            "marker": {
             "colorbar": {
              "outlinewidth": 0,
              "ticks": ""
             }
            },
            "type": "scattercarpet"
           }
          ],
          "scattergeo": [
           {
            "marker": {
             "colorbar": {
              "outlinewidth": 0,
              "ticks": ""
             }
            },
            "type": "scattergeo"
           }
          ],
          "scattergl": [
           {
            "marker": {
             "colorbar": {
              "outlinewidth": 0,
              "ticks": ""
             }
            },
            "type": "scattergl"
           }
          ],
          "scattermapbox": [
           {
            "marker": {
             "colorbar": {
              "outlinewidth": 0,
              "ticks": ""
             }
            },
            "type": "scattermapbox"
           }
          ],
          "scatterpolar": [
           {
            "marker": {
             "colorbar": {
              "outlinewidth": 0,
              "ticks": ""
             }
            },
            "type": "scatterpolar"
           }
          ],
          "scatterpolargl": [
           {
            "marker": {
             "colorbar": {
              "outlinewidth": 0,
              "ticks": ""
             }
            },
            "type": "scatterpolargl"
           }
          ],
          "scatterternary": [
           {
            "marker": {
             "colorbar": {
              "outlinewidth": 0,
              "ticks": ""
             }
            },
            "type": "scatterternary"
           }
          ],
          "surface": [
           {
            "colorbar": {
             "outlinewidth": 0,
             "ticks": ""
            },
            "colorscale": [
             [
              0,
              "#0d0887"
             ],
             [
              0.1111111111111111,
              "#46039f"
             ],
             [
              0.2222222222222222,
              "#7201a8"
             ],
             [
              0.3333333333333333,
              "#9c179e"
             ],
             [
              0.4444444444444444,
              "#bd3786"
             ],
             [
              0.5555555555555556,
              "#d8576b"
             ],
             [
              0.6666666666666666,
              "#ed7953"
             ],
             [
              0.7777777777777778,
              "#fb9f3a"
             ],
             [
              0.8888888888888888,
              "#fdca26"
             ],
             [
              1,
              "#f0f921"
             ]
            ],
            "type": "surface"
           }
          ],
          "table": [
           {
            "cells": {
             "fill": {
              "color": "#EBF0F8"
             },
             "line": {
              "color": "white"
             }
            },
            "header": {
             "fill": {
              "color": "#C8D4E3"
             },
             "line": {
              "color": "white"
             }
            },
            "type": "table"
           }
          ]
         },
         "layout": {
          "annotationdefaults": {
           "arrowcolor": "#2a3f5f",
           "arrowhead": 0,
           "arrowwidth": 1
          },
          "autotypenumbers": "strict",
          "coloraxis": {
           "colorbar": {
            "outlinewidth": 0,
            "ticks": ""
           }
          },
          "colorscale": {
           "diverging": [
            [
             0,
             "#8e0152"
            ],
            [
             0.1,
             "#c51b7d"
            ],
            [
             0.2,
             "#de77ae"
            ],
            [
             0.3,
             "#f1b6da"
            ],
            [
             0.4,
             "#fde0ef"
            ],
            [
             0.5,
             "#f7f7f7"
            ],
            [
             0.6,
             "#e6f5d0"
            ],
            [
             0.7,
             "#b8e186"
            ],
            [
             0.8,
             "#7fbc41"
            ],
            [
             0.9,
             "#4d9221"
            ],
            [
             1,
             "#276419"
            ]
           ],
           "sequential": [
            [
             0,
             "#0d0887"
            ],
            [
             0.1111111111111111,
             "#46039f"
            ],
            [
             0.2222222222222222,
             "#7201a8"
            ],
            [
             0.3333333333333333,
             "#9c179e"
            ],
            [
             0.4444444444444444,
             "#bd3786"
            ],
            [
             0.5555555555555556,
             "#d8576b"
            ],
            [
             0.6666666666666666,
             "#ed7953"
            ],
            [
             0.7777777777777778,
             "#fb9f3a"
            ],
            [
             0.8888888888888888,
             "#fdca26"
            ],
            [
             1,
             "#f0f921"
            ]
           ],
           "sequentialminus": [
            [
             0,
             "#0d0887"
            ],
            [
             0.1111111111111111,
             "#46039f"
            ],
            [
             0.2222222222222222,
             "#7201a8"
            ],
            [
             0.3333333333333333,
             "#9c179e"
            ],
            [
             0.4444444444444444,
             "#bd3786"
            ],
            [
             0.5555555555555556,
             "#d8576b"
            ],
            [
             0.6666666666666666,
             "#ed7953"
            ],
            [
             0.7777777777777778,
             "#fb9f3a"
            ],
            [
             0.8888888888888888,
             "#fdca26"
            ],
            [
             1,
             "#f0f921"
            ]
           ]
          },
          "colorway": [
           "#636efa",
           "#EF553B",
           "#00cc96",
           "#ab63fa",
           "#FFA15A",
           "#19d3f3",
           "#FF6692",
           "#B6E880",
           "#FF97FF",
           "#FECB52"
          ],
          "font": {
           "color": "#2a3f5f"
          },
          "geo": {
           "bgcolor": "white",
           "lakecolor": "white",
           "landcolor": "#E5ECF6",
           "showlakes": true,
           "showland": true,
           "subunitcolor": "white"
          },
          "hoverlabel": {
           "align": "left"
          },
          "hovermode": "closest",
          "mapbox": {
           "style": "light"
          },
          "paper_bgcolor": "white",
          "plot_bgcolor": "#E5ECF6",
          "polar": {
           "angularaxis": {
            "gridcolor": "white",
            "linecolor": "white",
            "ticks": ""
           },
           "bgcolor": "#E5ECF6",
           "radialaxis": {
            "gridcolor": "white",
            "linecolor": "white",
            "ticks": ""
           }
          },
          "scene": {
           "xaxis": {
            "backgroundcolor": "#E5ECF6",
            "gridcolor": "white",
            "gridwidth": 2,
            "linecolor": "white",
            "showbackground": true,
            "ticks": "",
            "zerolinecolor": "white"
           },
           "yaxis": {
            "backgroundcolor": "#E5ECF6",
            "gridcolor": "white",
            "gridwidth": 2,
            "linecolor": "white",
            "showbackground": true,
            "ticks": "",
            "zerolinecolor": "white"
           },
           "zaxis": {
            "backgroundcolor": "#E5ECF6",
            "gridcolor": "white",
            "gridwidth": 2,
            "linecolor": "white",
            "showbackground": true,
            "ticks": "",
            "zerolinecolor": "white"
           }
          },
          "shapedefaults": {
           "line": {
            "color": "#2a3f5f"
           }
          },
          "ternary": {
           "aaxis": {
            "gridcolor": "white",
            "linecolor": "white",
            "ticks": ""
           },
           "baxis": {
            "gridcolor": "white",
            "linecolor": "white",
            "ticks": ""
           },
           "bgcolor": "#E5ECF6",
           "caxis": {
            "gridcolor": "white",
            "linecolor": "white",
            "ticks": ""
           }
          },
          "title": {
           "x": 0.05
          },
          "xaxis": {
           "automargin": true,
           "gridcolor": "white",
           "linecolor": "white",
           "ticks": "",
           "title": {
            "standoff": 15
           },
           "zerolinecolor": "white",
           "zerolinewidth": 2
          },
          "yaxis": {
           "automargin": true,
           "gridcolor": "white",
           "linecolor": "white",
           "ticks": "",
           "title": {
            "standoff": 15
           },
           "zerolinecolor": "white",
           "zerolinewidth": 2
          }
         }
        },
        "xaxis": {
         "anchor": "y",
         "domain": [
          0,
          1
         ],
         "title": {
          "text": "Epoch"
         }
        },
        "yaxis": {
         "anchor": "x",
         "domain": [
          0,
          1
         ],
         "title": {
          "text": "value"
         }
        }
       }
      }
     },
     "metadata": {},
     "output_type": "display_data"
    }
   ],
   "source": [
    "data = pd.read_csv('../Notebooks/loss_logs.csv')\n",
    "fig = px.line(data, x='Epoch', y=data.columns[1:3])\n",
    "fig.show()"
   ]
  }
 ],
 "metadata": {
  "language_info": {
   "name": "python"
  },
  "orig_nbformat": 4
 },
 "nbformat": 4,
 "nbformat_minor": 2
}
