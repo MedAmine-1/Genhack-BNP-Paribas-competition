{
 "cells": [
  {
   "cell_type": "code",
   "execution_count": 541,
   "metadata": {},
   "outputs": [],
   "source": [
    "# example of a wgan for generating handwritten digits\n",
    "from numpy import expand_dims\n",
    "from numpy import mean\n",
    "from numpy import ones\n",
    "from numpy.random import randn\n",
    "from numpy.random import randint\n",
    "from keras.datasets.mnist import load_data\n",
    "from keras import backend\n",
    "from tensorflow.keras.optimizers import RMSprop\n",
    "from keras.models import Sequential\n",
    "from keras.layers import Dense\n",
    "from keras.layers import Reshape\n",
    "from keras.layers import Flatten\n",
    "from keras.layers import Conv2D\n",
    "from keras.layers import Conv2DTranspose\n",
    "from keras.layers import LeakyReLU\n",
    "from keras.layers import BatchNormalization\n",
    "from keras.initializers import RandomNormal\n",
    "from keras.constraints import Constraint\n",
    "from matplotlib import pyplot\n",
    "import pandas as pd\n",
    "import numpy as np\n",
    "import plotly.express as px "
   ]
  },
  {
   "cell_type": "code",
   "execution_count": 530,
   "metadata": {},
   "outputs": [
    {
     "data": {
      "text/plain": [
       "(array([[0.01143886, 0.00269057],\n",
       "        [0.00063166, 0.0072774 ],\n",
       "        [0.01782796, 0.02821015],\n",
       "        ...,\n",
       "        [0.00768299, 0.00195759],\n",
       "        [0.00339559, 0.00127959],\n",
       "        [0.0045912 , 0.00667492]]),\n",
       " (745, 2))"
      ]
     },
     "execution_count": 530,
     "metadata": {},
     "output_type": "execute_result"
    }
   ],
   "source": [
    "df1 = pd.read_csv (\"../Data/train.csv\")\n",
    "df = np.array(df1)[:,1:]\n",
    "df = df[:, [0, 1]]\n",
    "df, df.shape"
   ]
  },
  {
   "cell_type": "code",
   "execution_count": 531,
   "metadata": {},
   "outputs": [],
   "source": [
    "# calculate wasserstein loss\n",
    "def wasserstein_loss(y_true, y_pred):\n",
    "\treturn backend.mean(y_true * y_pred)"
   ]
  },
  {
   "cell_type": "code",
   "execution_count": 532,
   "metadata": {},
   "outputs": [
    {
     "name": "stdout",
     "output_type": "stream",
     "text": [
      "Model: \"model_73\"\n",
      "_________________________________________________________________\n",
      "Layer (type)                 Output Shape              Param #   \n",
      "=================================================================\n",
      "input_85 (InputLayer)        [(None, 2)]               0         \n",
      "_________________________________________________________________\n",
      "dense_299 (Dense)            (None, 128)               384       \n",
      "_________________________________________________________________\n",
      "dense_300 (Dense)            (None, 256)               33024     \n",
      "_________________________________________________________________\n",
      "dense_301 (Dense)            (None, 512)               131584    \n",
      "_________________________________________________________________\n",
      "dense_302 (Dense)            (None, 2)                 1026      \n",
      "=================================================================\n",
      "Total params: 166,018\n",
      "Trainable params: 166,018\n",
      "Non-trainable params: 0\n",
      "_________________________________________________________________\n"
     ]
    },
    {
     "name": "stderr",
     "output_type": "stream",
     "text": [
      "C:\\Users\\BEN ALLAL\\AppData\\Local\\Programs\\Python\\Python39\\lib\\site-packages\\keras\\optimizer_v2\\optimizer_v2.py:355: UserWarning:\n",
      "\n",
      "The `lr` argument is deprecated, use `learning_rate` instead.\n",
      "\n"
     ]
    }
   ],
   "source": [
    "def define_generator(G_in, dim=128, out_dim=2, lr=1e-3):\n",
    "    x = Dense(dim)(G_in)\n",
    "    x = Dense(dim*2)(x)\n",
    "    x = Dense(dim*4)(x)\n",
    "    G_out = Dense(out_dim)(x)\n",
    "    G = Model(G_in, G_out)\n",
    "    opt = RMSprop(lr=lr)\n",
    "    G.compile(loss=wasserstein_loss, optimizer=opt)\n",
    "    return G,G_out\n",
    "\n",
    "G_in = Input(shape=[2])\n",
    "G, G_out = define_generator(G_in)\n",
    "G.summary()"
   ]
  },
  {
   "cell_type": "code",
   "execution_count": 533,
   "metadata": {},
   "outputs": [
    {
     "name": "stdout",
     "output_type": "stream",
     "text": [
      "Model: \"model_74\"\n",
      "_________________________________________________________________\n",
      "Layer (type)                 Output Shape              Param #   \n",
      "=================================================================\n",
      "input_86 (InputLayer)        [(None, 2)]               0         \n",
      "_________________________________________________________________\n",
      "dense_303 (Dense)            (None, 512)               1536      \n",
      "_________________________________________________________________\n",
      "dropout_54 (Dropout)         (None, 512)               0         \n",
      "_________________________________________________________________\n",
      "dense_304 (Dense)            (None, 256)               131328    \n",
      "_________________________________________________________________\n",
      "dropout_55 (Dropout)         (None, 256)               0         \n",
      "_________________________________________________________________\n",
      "dense_305 (Dense)            (None, 128)               32896     \n",
      "_________________________________________________________________\n",
      "dense_306 (Dense)            (None, 1)                 129       \n",
      "=================================================================\n",
      "Total params: 165,889\n",
      "Trainable params: 165,889\n",
      "Non-trainable params: 0\n",
      "_________________________________________________________________\n"
     ]
    }
   ],
   "source": [
    "# define the standalone critic model\n",
    "def define_critic(D_in,dim=128,out_dim=1,lr=1e-3):\n",
    "\tconst = ClipConstraint(0.01)\n",
    "\tx = Dense(dim * 4)(D_in)\n",
    "\tx = Dropout(0.1)(x)\n",
    "\tx = Dense(dim * 2)(x)\n",
    "\tx = Dropout(0.1)(x)\n",
    "\tx = Dense(dim)(x)\n",
    "\tD_out = Dense(out_dim)(x)\n",
    "\tD = Model(D_in, D_out)\n",
    "\topt = RMSprop(lr=lr)\n",
    "\tD.compile(loss=wasserstein_loss, optimizer=opt)\n",
    "\treturn D,D_out\n",
    "\n",
    "D_in = Input(shape=[2])\n",
    "D, D_out = define_critic(D_in)\n",
    "D.summary()"
   ]
  },
  {
   "cell_type": "code",
   "execution_count": 534,
   "metadata": {},
   "outputs": [
    {
     "name": "stdout",
     "output_type": "stream",
     "text": [
      "Model: \"model_75\"\n",
      "_________________________________________________________________\n",
      "Layer (type)                 Output Shape              Param #   \n",
      "=================================================================\n",
      "input_87 (InputLayer)        [(None, 2)]               0         \n",
      "_________________________________________________________________\n",
      "model_73 (Functional)        (None, 2)                 166018    \n",
      "_________________________________________________________________\n",
      "model_74 (Functional)        (None, 1)                 165889    \n",
      "=================================================================\n",
      "Total params: 331,907\n",
      "Trainable params: 166,018\n",
      "Non-trainable params: 165,889\n",
      "_________________________________________________________________\n"
     ]
    }
   ],
   "source": [
    "def set_trainability(model, trainable=False):\n",
    "    model.trainable = trainable\n",
    "    for layer in model.layers:\n",
    "        layer.trainable = trainable\n",
    "        \n",
    "def define_gan(GAN_in, G, D):\n",
    "    set_trainability(D, False)\n",
    "    x = G(GAN_in)\n",
    "    GAN_out = D(x)\n",
    "    GAN = Model(GAN_in, GAN_out)\n",
    "    GAN.compile(loss=wasserstein_loss, optimizer=G.optimizer)\n",
    "    return GAN, GAN_out\n",
    "\n",
    "GAN_in = Input([2])\n",
    "GAN, GAN_out = define_gan(GAN_in, G, D)\n",
    "GAN.summary()"
   ]
  },
  {
   "cell_type": "code",
   "execution_count": 535,
   "metadata": {},
   "outputs": [],
   "source": [
    "def train(GAN, G, D, epochs, batch_size=1,latent_dim=4,verbose=False):\n",
    "    valid = -np.ones((batch_size, 1))\n",
    "    fake = np.ones((batch_size, 1))\n",
    "    d_loss = []\n",
    "    g_loss = []\n",
    "    clip_value = 0.01\n",
    "    n_critic = 5\n",
    "    e_range = range(epochs)\n",
    "    f = open('loss_logs.csv','w')\n",
    "    f.write('Epoch,Discriminator Loss,Generator Loss\\n')\n",
    "\n",
    "    if verbose:\n",
    "        e_range = tqdm(e_range)\n",
    "    for epoch in e_range:\n",
    "        for _ in range(n_critic):\n",
    "            idx = np.random.randint(0, df.shape[0], batch_size)\n",
    "            batch_data = df[idx]\n",
    "                \n",
    "            # Sample noise as generator input\n",
    "            noise = np.random.normal(-1, 1, (batch_size, latent_dim))\n",
    "\n",
    "            # Generate a batch of new images\n",
    "            gen_data = G.predict(noise)\n",
    "            \n",
    "            d_loss_real = D.train_on_batch(batch_data, valid)\n",
    "            d_loss_fake = D.train_on_batch(gen_data, fake)\n",
    "            d_loss = 0.5 * np.add(d_loss_fake, d_loss_real)\n",
    "            \n",
    "            for l in D.layers:\n",
    "                weights = l.get_weights()\n",
    "                weights = [np.clip(w, -clip_value, clip_value) for w in weights]\n",
    "                l.set_weights(weights)\n",
    "            \n",
    "        g_loss = GAN.train_on_batch(noise, valid)\n",
    "\n",
    "        # Plot the progress\n",
    "        print (\"%d [D loss: %f] [G loss: %f]\" % (epoch, d_loss, g_loss))\n",
    "        f.write(\"%d,%f,%f\\n\"%(epoch,d_loss,g_loss))"
   ]
  },
  {
   "cell_type": "code",
   "execution_count": 536,
   "metadata": {},
   "outputs": [
    {
     "name": "stdout",
     "output_type": "stream",
     "text": [
      "0 [D loss: 0.000992] [G loss: -0.002269]\n",
      "1 [D loss: 0.004183] [G loss: -0.003881]\n",
      "2 [D loss: 0.011038] [G loss: -0.010478]\n",
      "3 [D loss: -0.106620] [G loss: 0.352194]\n",
      "4 [D loss: -0.170291] [G loss: 0.469816]\n",
      "5 [D loss: 0.030136] [G loss: -0.041948]\n",
      "6 [D loss: -0.484465] [G loss: 1.089784]\n",
      "7 [D loss: 0.019768] [G loss: -0.032022]\n",
      "8 [D loss: 0.017463] [G loss: -0.026331]\n",
      "9 [D loss: 0.011532] [G loss: -0.015268]\n",
      "10 [D loss: 0.001929] [G loss: -0.003554]\n",
      "11 [D loss: 0.001196] [G loss: -0.002204]\n",
      "12 [D loss: 0.000424] [G loss: -0.001016]\n",
      "13 [D loss: 0.000662] [G loss: -0.000880]\n",
      "14 [D loss: -0.019533] [G loss: 0.071593]\n",
      "15 [D loss: 0.002255] [G loss: -0.006270]\n",
      "16 [D loss: 0.000822] [G loss: -0.002663]\n",
      "17 [D loss: 0.000734] [G loss: -0.000241]\n",
      "18 [D loss: -0.000028] [G loss: 0.000396]\n",
      "19 [D loss: 0.000830] [G loss: -0.001605]\n",
      "20 [D loss: 0.000817] [G loss: -0.001202]\n",
      "21 [D loss: 0.000684] [G loss: -0.001398]\n",
      "22 [D loss: 0.000490] [G loss: -0.001276]\n",
      "23 [D loss: 0.000498] [G loss: -0.001293]\n",
      "24 [D loss: 0.000485] [G loss: 0.004554]\n",
      "25 [D loss: 0.000368] [G loss: 0.001928]\n",
      "26 [D loss: 0.000509] [G loss: -0.001363]\n",
      "27 [D loss: 0.000527] [G loss: -0.001338]\n",
      "28 [D loss: 0.000636] [G loss: -0.001515]\n",
      "29 [D loss: 0.000522] [G loss: -0.001395]\n",
      "30 [D loss: 0.000498] [G loss: -0.001332]\n",
      "31 [D loss: 0.000525] [G loss: -0.001393]\n",
      "32 [D loss: 0.000574] [G loss: -0.001382]\n",
      "33 [D loss: 0.000517] [G loss: -0.001405]\n",
      "34 [D loss: 0.000513] [G loss: -0.001374]\n",
      "35 [D loss: 0.000507] [G loss: -0.001304]\n",
      "36 [D loss: -0.000864] [G loss: 0.019518]\n",
      "37 [D loss: 0.000497] [G loss: -0.001484]\n",
      "38 [D loss: 0.001932] [G loss: -0.002179]\n",
      "39 [D loss: 0.000775] [G loss: -0.001554]\n",
      "40 [D loss: 0.000534] [G loss: -0.001205]\n",
      "41 [D loss: 0.000480] [G loss: -0.000971]\n",
      "42 [D loss: 0.000415] [G loss: 0.002013]\n",
      "43 [D loss: 0.000945] [G loss: -0.001445]\n",
      "44 [D loss: 0.000835] [G loss: -0.001353]\n",
      "45 [D loss: 0.000321] [G loss: 0.001465]\n",
      "46 [D loss: 0.000537] [G loss: -0.001394]\n",
      "47 [D loss: 0.000556] [G loss: -0.001233]\n",
      "48 [D loss: 0.000827] [G loss: -0.001265]\n",
      "49 [D loss: 0.000557] [G loss: -0.001391]\n",
      "50 [D loss: 0.000564] [G loss: -0.001392]\n",
      "51 [D loss: 0.000539] [G loss: -0.001394]\n",
      "52 [D loss: 0.000672] [G loss: -0.001235]\n",
      "53 [D loss: 0.000510] [G loss: -0.001274]\n",
      "54 [D loss: 0.000502] [G loss: -0.001269]\n",
      "55 [D loss: 0.000634] [G loss: -0.001338]\n",
      "56 [D loss: 0.000603] [G loss: -0.001234]\n",
      "57 [D loss: 0.000506] [G loss: -0.001329]\n",
      "58 [D loss: 0.000529] [G loss: -0.001391]\n",
      "59 [D loss: 0.000513] [G loss: -0.001396]\n",
      "60 [D loss: 0.000525] [G loss: -0.001298]\n",
      "61 [D loss: 0.000990] [G loss: -0.000857]\n",
      "62 [D loss: 0.000507] [G loss: -0.001375]\n",
      "63 [D loss: 0.000525] [G loss: -0.001391]\n",
      "64 [D loss: 0.000684] [G loss: -0.000916]\n",
      "65 [D loss: 0.000487] [G loss: -0.001256]\n",
      "66 [D loss: 0.000665] [G loss: -0.001176]\n",
      "67 [D loss: 0.000516] [G loss: -0.001364]\n",
      "68 [D loss: 0.000504] [G loss: -0.001394]\n",
      "69 [D loss: 0.000546] [G loss: -0.001396]\n",
      "70 [D loss: 0.000547] [G loss: -0.001386]\n",
      "71 [D loss: 0.000579] [G loss: -0.001398]\n",
      "72 [D loss: 0.001382] [G loss: -0.000751]\n",
      "73 [D loss: 0.000501] [G loss: -0.001387]\n",
      "74 [D loss: 0.000542] [G loss: -0.000812]\n",
      "75 [D loss: 0.000521] [G loss: -0.001392]\n",
      "76 [D loss: 0.000539] [G loss: -0.001387]\n",
      "77 [D loss: 0.000548] [G loss: -0.001362]\n",
      "78 [D loss: 0.000514] [G loss: -0.001393]\n",
      "79 [D loss: 0.000602] [G loss: -0.001338]\n",
      "80 [D loss: 0.000568] [G loss: -0.001388]\n",
      "81 [D loss: 0.000501] [G loss: -0.001392]\n",
      "82 [D loss: 0.000583] [G loss: -0.001387]\n",
      "83 [D loss: 0.000558] [G loss: -0.001409]\n",
      "84 [D loss: 0.000556] [G loss: -0.001241]\n",
      "85 [D loss: 0.000560] [G loss: -0.001352]\n",
      "86 [D loss: 0.000530] [G loss: -0.001371]\n",
      "87 [D loss: 0.000546] [G loss: -0.001372]\n",
      "88 [D loss: 0.000589] [G loss: -0.001351]\n",
      "89 [D loss: 0.000696] [G loss: -0.001387]\n",
      "90 [D loss: 0.000531] [G loss: -0.001395]\n",
      "91 [D loss: 0.000521] [G loss: -0.001377]\n",
      "92 [D loss: 0.000631] [G loss: -0.001442]\n",
      "93 [D loss: 0.000609] [G loss: -0.001394]\n",
      "94 [D loss: 0.000506] [G loss: -0.001391]\n",
      "95 [D loss: 0.000628] [G loss: -0.001307]\n",
      "96 [D loss: 0.000632] [G loss: -0.001214]\n",
      "97 [D loss: 0.000576] [G loss: -0.001395]\n",
      "98 [D loss: 0.000514] [G loss: -0.001394]\n",
      "99 [D loss: 0.000580] [G loss: -0.001392]\n"
     ]
    }
   ],
   "source": [
    "train(GAN, G, D, epochs=100, batch_size=1,latent_dim=2,verbose=False)"
   ]
  },
  {
   "cell_type": "code",
   "execution_count": 537,
   "metadata": {},
   "outputs": [
    {
     "data": {
      "application/vnd.plotly.v1+json": {
       "config": {
        "plotlyServerURL": "https://plot.ly"
       },
       "data": [
        {
         "hovertemplate": "variable=Discriminator Loss<br>Epoch=%{x}<br>value=%{y}<extra></extra>",
         "legendgroup": "Discriminator Loss",
         "line": {
          "color": "#636efa",
          "dash": "solid"
         },
         "marker": {
          "symbol": "circle"
         },
         "mode": "lines",
         "name": "Discriminator Loss",
         "orientation": "v",
         "showlegend": true,
         "type": "scatter",
         "x": [
          0,
          1,
          2,
          3,
          4,
          5,
          6,
          7,
          8,
          9,
          10,
          11,
          12,
          13,
          14,
          15,
          16,
          17,
          18,
          19,
          20,
          21,
          22,
          23,
          24,
          25,
          26,
          27,
          28,
          29,
          30,
          31,
          32,
          33,
          34,
          35,
          36,
          37,
          38,
          39,
          40,
          41,
          42,
          43,
          44,
          45,
          46,
          47,
          48,
          49,
          50,
          51,
          52,
          53,
          54,
          55,
          56,
          57,
          58,
          59,
          60,
          61,
          62,
          63,
          64,
          65,
          66,
          67,
          68,
          69,
          70,
          71,
          72,
          73,
          74,
          75,
          76,
          77,
          78,
          79,
          80,
          81,
          82,
          83,
          84,
          85,
          86,
          87,
          88,
          89,
          90,
          91,
          92,
          93,
          94,
          95,
          96,
          97,
          98,
          99
         ],
         "xaxis": "x",
         "y": [
          0.000992,
          0.004183,
          0.011038,
          -0.10662,
          -0.170291,
          0.030136,
          -0.484465,
          0.019768,
          0.017463,
          0.011532,
          0.001929,
          0.001196,
          0.000424,
          0.000662,
          -0.019533,
          0.002255,
          0.000822,
          0.000734,
          -0.000028,
          0.00083,
          0.000817,
          0.000684,
          0.00049,
          0.000498,
          0.000485,
          0.000368,
          0.000509,
          0.000527,
          0.000636,
          0.000522,
          0.000498,
          0.000525,
          0.000574,
          0.000517,
          0.000513,
          0.000507,
          -0.000864,
          0.000497,
          0.001932,
          0.000775,
          0.000534,
          0.00048,
          0.000415,
          0.000945,
          0.000835,
          0.000321,
          0.000537,
          0.000556,
          0.000827,
          0.000557,
          0.000564,
          0.000539,
          0.000672,
          0.00051,
          0.000502,
          0.000634,
          0.000603,
          0.000506,
          0.000529,
          0.000513,
          0.000525,
          0.00099,
          0.000507,
          0.000525,
          0.000684,
          0.000487,
          0.000665,
          0.000516,
          0.000504,
          0.000546,
          0.000547,
          0.000579,
          0.001382,
          0.000501,
          0.000542,
          0.000521,
          0.000539,
          0.000548,
          0.000514,
          0.000602,
          0.000568,
          0.000501,
          0.000583,
          0.000558,
          0.000556,
          0.00056,
          0.00053,
          0.000546,
          0.000589,
          0.000696,
          0.000531,
          0.000521,
          0.000631,
          0.000609,
          0.000506,
          0.000628,
          0.000632,
          0.000576,
          0.000514,
          0.00058
         ],
         "yaxis": "y"
        },
        {
         "hovertemplate": "variable=Generator Loss<br>Epoch=%{x}<br>value=%{y}<extra></extra>",
         "legendgroup": "Generator Loss",
         "line": {
          "color": "#EF553B",
          "dash": "solid"
         },
         "marker": {
          "symbol": "circle"
         },
         "mode": "lines",
         "name": "Generator Loss",
         "orientation": "v",
         "showlegend": true,
         "type": "scatter",
         "x": [
          0,
          1,
          2,
          3,
          4,
          5,
          6,
          7,
          8,
          9,
          10,
          11,
          12,
          13,
          14,
          15,
          16,
          17,
          18,
          19,
          20,
          21,
          22,
          23,
          24,
          25,
          26,
          27,
          28,
          29,
          30,
          31,
          32,
          33,
          34,
          35,
          36,
          37,
          38,
          39,
          40,
          41,
          42,
          43,
          44,
          45,
          46,
          47,
          48,
          49,
          50,
          51,
          52,
          53,
          54,
          55,
          56,
          57,
          58,
          59,
          60,
          61,
          62,
          63,
          64,
          65,
          66,
          67,
          68,
          69,
          70,
          71,
          72,
          73,
          74,
          75,
          76,
          77,
          78,
          79,
          80,
          81,
          82,
          83,
          84,
          85,
          86,
          87,
          88,
          89,
          90,
          91,
          92,
          93,
          94,
          95,
          96,
          97,
          98,
          99
         ],
         "xaxis": "x",
         "y": [
          -0.002269,
          -0.003881,
          -0.010478,
          0.352194,
          0.469816,
          -0.041948,
          1.089784,
          -0.032022,
          -0.026331,
          -0.015268,
          -0.003554,
          -0.002204,
          -0.001016,
          -0.00088,
          0.071593,
          -0.00627,
          -0.002663,
          -0.000241,
          0.000396,
          -0.001605,
          -0.001202,
          -0.001398,
          -0.001276,
          -0.001293,
          0.004554,
          0.001928,
          -0.001363,
          -0.001338,
          -0.001515,
          -0.001395,
          -0.001332,
          -0.001393,
          -0.001382,
          -0.001405,
          -0.001374,
          -0.001304,
          0.019518,
          -0.001484,
          -0.002179,
          -0.001554,
          -0.001205,
          -0.000971,
          0.002013,
          -0.001445,
          -0.001353,
          0.001465,
          -0.001394,
          -0.001233,
          -0.001265,
          -0.001391,
          -0.001392,
          -0.001394,
          -0.001235,
          -0.001274,
          -0.001269,
          -0.001338,
          -0.001234,
          -0.001329,
          -0.001391,
          -0.001396,
          -0.001298,
          -0.000857,
          -0.001375,
          -0.001391,
          -0.000916,
          -0.001256,
          -0.001176,
          -0.001364,
          -0.001394,
          -0.001396,
          -0.001386,
          -0.001398,
          -0.000751,
          -0.001387,
          -0.000812,
          -0.001392,
          -0.001387,
          -0.001362,
          -0.001393,
          -0.001338,
          -0.001388,
          -0.001392,
          -0.001387,
          -0.001409,
          -0.001241,
          -0.001352,
          -0.001371,
          -0.001372,
          -0.001351,
          -0.001387,
          -0.001395,
          -0.001377,
          -0.001442,
          -0.001394,
          -0.001391,
          -0.001307,
          -0.001214,
          -0.001395,
          -0.001394,
          -0.001392
         ],
         "yaxis": "y"
        }
       ],
       "layout": {
        "legend": {
         "title": {
          "text": "variable"
         },
         "tracegroupgap": 0
        },
        "margin": {
         "t": 60
        },
        "template": {
         "data": {
          "bar": [
           {
            "error_x": {
             "color": "#2a3f5f"
            },
            "error_y": {
             "color": "#2a3f5f"
            },
            "marker": {
             "line": {
              "color": "#E5ECF6",
              "width": 0.5
             },
             "pattern": {
              "fillmode": "overlay",
              "size": 10,
              "solidity": 0.2
             }
            },
            "type": "bar"
           }
          ],
          "barpolar": [
           {
            "marker": {
             "line": {
              "color": "#E5ECF6",
              "width": 0.5
             },
             "pattern": {
              "fillmode": "overlay",
              "size": 10,
              "solidity": 0.2
             }
            },
            "type": "barpolar"
           }
          ],
          "carpet": [
           {
            "aaxis": {
             "endlinecolor": "#2a3f5f",
             "gridcolor": "white",
             "linecolor": "white",
             "minorgridcolor": "white",
             "startlinecolor": "#2a3f5f"
            },
            "baxis": {
             "endlinecolor": "#2a3f5f",
             "gridcolor": "white",
             "linecolor": "white",
             "minorgridcolor": "white",
             "startlinecolor": "#2a3f5f"
            },
            "type": "carpet"
           }
          ],
          "choropleth": [
           {
            "colorbar": {
             "outlinewidth": 0,
             "ticks": ""
            },
            "type": "choropleth"
           }
          ],
          "contour": [
           {
            "colorbar": {
             "outlinewidth": 0,
             "ticks": ""
            },
            "colorscale": [
             [
              0,
              "#0d0887"
             ],
             [
              0.1111111111111111,
              "#46039f"
             ],
             [
              0.2222222222222222,
              "#7201a8"
             ],
             [
              0.3333333333333333,
              "#9c179e"
             ],
             [
              0.4444444444444444,
              "#bd3786"
             ],
             [
              0.5555555555555556,
              "#d8576b"
             ],
             [
              0.6666666666666666,
              "#ed7953"
             ],
             [
              0.7777777777777778,
              "#fb9f3a"
             ],
             [
              0.8888888888888888,
              "#fdca26"
             ],
             [
              1,
              "#f0f921"
             ]
            ],
            "type": "contour"
           }
          ],
          "contourcarpet": [
           {
            "colorbar": {
             "outlinewidth": 0,
             "ticks": ""
            },
            "type": "contourcarpet"
           }
          ],
          "heatmap": [
           {
            "colorbar": {
             "outlinewidth": 0,
             "ticks": ""
            },
            "colorscale": [
             [
              0,
              "#0d0887"
             ],
             [
              0.1111111111111111,
              "#46039f"
             ],
             [
              0.2222222222222222,
              "#7201a8"
             ],
             [
              0.3333333333333333,
              "#9c179e"
             ],
             [
              0.4444444444444444,
              "#bd3786"
             ],
             [
              0.5555555555555556,
              "#d8576b"
             ],
             [
              0.6666666666666666,
              "#ed7953"
             ],
             [
              0.7777777777777778,
              "#fb9f3a"
             ],
             [
              0.8888888888888888,
              "#fdca26"
             ],
             [
              1,
              "#f0f921"
             ]
            ],
            "type": "heatmap"
           }
          ],
          "heatmapgl": [
           {
            "colorbar": {
             "outlinewidth": 0,
             "ticks": ""
            },
            "colorscale": [
             [
              0,
              "#0d0887"
             ],
             [
              0.1111111111111111,
              "#46039f"
             ],
             [
              0.2222222222222222,
              "#7201a8"
             ],
             [
              0.3333333333333333,
              "#9c179e"
             ],
             [
              0.4444444444444444,
              "#bd3786"
             ],
             [
              0.5555555555555556,
              "#d8576b"
             ],
             [
              0.6666666666666666,
              "#ed7953"
             ],
             [
              0.7777777777777778,
              "#fb9f3a"
             ],
             [
              0.8888888888888888,
              "#fdca26"
             ],
             [
              1,
              "#f0f921"
             ]
            ],
            "type": "heatmapgl"
           }
          ],
          "histogram": [
           {
            "marker": {
             "pattern": {
              "fillmode": "overlay",
              "size": 10,
              "solidity": 0.2
             }
            },
            "type": "histogram"
           }
          ],
          "histogram2d": [
           {
            "colorbar": {
             "outlinewidth": 0,
             "ticks": ""
            },
            "colorscale": [
             [
              0,
              "#0d0887"
             ],
             [
              0.1111111111111111,
              "#46039f"
             ],
             [
              0.2222222222222222,
              "#7201a8"
             ],
             [
              0.3333333333333333,
              "#9c179e"
             ],
             [
              0.4444444444444444,
              "#bd3786"
             ],
             [
              0.5555555555555556,
              "#d8576b"
             ],
             [
              0.6666666666666666,
              "#ed7953"
             ],
             [
              0.7777777777777778,
              "#fb9f3a"
             ],
             [
              0.8888888888888888,
              "#fdca26"
             ],
             [
              1,
              "#f0f921"
             ]
            ],
            "type": "histogram2d"
           }
          ],
          "histogram2dcontour": [
           {
            "colorbar": {
             "outlinewidth": 0,
             "ticks": ""
            },
            "colorscale": [
             [
              0,
              "#0d0887"
             ],
             [
              0.1111111111111111,
              "#46039f"
             ],
             [
              0.2222222222222222,
              "#7201a8"
             ],
             [
              0.3333333333333333,
              "#9c179e"
             ],
             [
              0.4444444444444444,
              "#bd3786"
             ],
             [
              0.5555555555555556,
              "#d8576b"
             ],
             [
              0.6666666666666666,
              "#ed7953"
             ],
             [
              0.7777777777777778,
              "#fb9f3a"
             ],
             [
              0.8888888888888888,
              "#fdca26"
             ],
             [
              1,
              "#f0f921"
             ]
            ],
            "type": "histogram2dcontour"
           }
          ],
          "mesh3d": [
           {
            "colorbar": {
             "outlinewidth": 0,
             "ticks": ""
            },
            "type": "mesh3d"
           }
          ],
          "parcoords": [
           {
            "line": {
             "colorbar": {
              "outlinewidth": 0,
              "ticks": ""
             }
            },
            "type": "parcoords"
           }
          ],
          "pie": [
           {
            "automargin": true,
            "type": "pie"
           }
          ],
          "scatter": [
           {
            "marker": {
             "colorbar": {
              "outlinewidth": 0,
              "ticks": ""
             }
            },
            "type": "scatter"
           }
          ],
          "scatter3d": [
           {
            "line": {
             "colorbar": {
              "outlinewidth": 0,
              "ticks": ""
             }
            },
            "marker": {
             "colorbar": {
              "outlinewidth": 0,
              "ticks": ""
             }
            },
            "type": "scatter3d"
           }
          ],
          "scattercarpet": [
           {
            "marker": {
             "colorbar": {
              "outlinewidth": 0,
              "ticks": ""
             }
            },
            "type": "scattercarpet"
           }
          ],
          "scattergeo": [
           {
            "marker": {
             "colorbar": {
              "outlinewidth": 0,
              "ticks": ""
             }
            },
            "type": "scattergeo"
           }
          ],
          "scattergl": [
           {
            "marker": {
             "colorbar": {
              "outlinewidth": 0,
              "ticks": ""
             }
            },
            "type": "scattergl"
           }
          ],
          "scattermapbox": [
           {
            "marker": {
             "colorbar": {
              "outlinewidth": 0,
              "ticks": ""
             }
            },
            "type": "scattermapbox"
           }
          ],
          "scatterpolar": [
           {
            "marker": {
             "colorbar": {
              "outlinewidth": 0,
              "ticks": ""
             }
            },
            "type": "scatterpolar"
           }
          ],
          "scatterpolargl": [
           {
            "marker": {
             "colorbar": {
              "outlinewidth": 0,
              "ticks": ""
             }
            },
            "type": "scatterpolargl"
           }
          ],
          "scatterternary": [
           {
            "marker": {
             "colorbar": {
              "outlinewidth": 0,
              "ticks": ""
             }
            },
            "type": "scatterternary"
           }
          ],
          "surface": [
           {
            "colorbar": {
             "outlinewidth": 0,
             "ticks": ""
            },
            "colorscale": [
             [
              0,
              "#0d0887"
             ],
             [
              0.1111111111111111,
              "#46039f"
             ],
             [
              0.2222222222222222,
              "#7201a8"
             ],
             [
              0.3333333333333333,
              "#9c179e"
             ],
             [
              0.4444444444444444,
              "#bd3786"
             ],
             [
              0.5555555555555556,
              "#d8576b"
             ],
             [
              0.6666666666666666,
              "#ed7953"
             ],
             [
              0.7777777777777778,
              "#fb9f3a"
             ],
             [
              0.8888888888888888,
              "#fdca26"
             ],
             [
              1,
              "#f0f921"
             ]
            ],
            "type": "surface"
           }
          ],
          "table": [
           {
            "cells": {
             "fill": {
              "color": "#EBF0F8"
             },
             "line": {
              "color": "white"
             }
            },
            "header": {
             "fill": {
              "color": "#C8D4E3"
             },
             "line": {
              "color": "white"
             }
            },
            "type": "table"
           }
          ]
         },
         "layout": {
          "annotationdefaults": {
           "arrowcolor": "#2a3f5f",
           "arrowhead": 0,
           "arrowwidth": 1
          },
          "autotypenumbers": "strict",
          "coloraxis": {
           "colorbar": {
            "outlinewidth": 0,
            "ticks": ""
           }
          },
          "colorscale": {
           "diverging": [
            [
             0,
             "#8e0152"
            ],
            [
             0.1,
             "#c51b7d"
            ],
            [
             0.2,
             "#de77ae"
            ],
            [
             0.3,
             "#f1b6da"
            ],
            [
             0.4,
             "#fde0ef"
            ],
            [
             0.5,
             "#f7f7f7"
            ],
            [
             0.6,
             "#e6f5d0"
            ],
            [
             0.7,
             "#b8e186"
            ],
            [
             0.8,
             "#7fbc41"
            ],
            [
             0.9,
             "#4d9221"
            ],
            [
             1,
             "#276419"
            ]
           ],
           "sequential": [
            [
             0,
             "#0d0887"
            ],
            [
             0.1111111111111111,
             "#46039f"
            ],
            [
             0.2222222222222222,
             "#7201a8"
            ],
            [
             0.3333333333333333,
             "#9c179e"
            ],
            [
             0.4444444444444444,
             "#bd3786"
            ],
            [
             0.5555555555555556,
             "#d8576b"
            ],
            [
             0.6666666666666666,
             "#ed7953"
            ],
            [
             0.7777777777777778,
             "#fb9f3a"
            ],
            [
             0.8888888888888888,
             "#fdca26"
            ],
            [
             1,
             "#f0f921"
            ]
           ],
           "sequentialminus": [
            [
             0,
             "#0d0887"
            ],
            [
             0.1111111111111111,
             "#46039f"
            ],
            [
             0.2222222222222222,
             "#7201a8"
            ],
            [
             0.3333333333333333,
             "#9c179e"
            ],
            [
             0.4444444444444444,
             "#bd3786"
            ],
            [
             0.5555555555555556,
             "#d8576b"
            ],
            [
             0.6666666666666666,
             "#ed7953"
            ],
            [
             0.7777777777777778,
             "#fb9f3a"
            ],
            [
             0.8888888888888888,
             "#fdca26"
            ],
            [
             1,
             "#f0f921"
            ]
           ]
          },
          "colorway": [
           "#636efa",
           "#EF553B",
           "#00cc96",
           "#ab63fa",
           "#FFA15A",
           "#19d3f3",
           "#FF6692",
           "#B6E880",
           "#FF97FF",
           "#FECB52"
          ],
          "font": {
           "color": "#2a3f5f"
          },
          "geo": {
           "bgcolor": "white",
           "lakecolor": "white",
           "landcolor": "#E5ECF6",
           "showlakes": true,
           "showland": true,
           "subunitcolor": "white"
          },
          "hoverlabel": {
           "align": "left"
          },
          "hovermode": "closest",
          "mapbox": {
           "style": "light"
          },
          "paper_bgcolor": "white",
          "plot_bgcolor": "#E5ECF6",
          "polar": {
           "angularaxis": {
            "gridcolor": "white",
            "linecolor": "white",
            "ticks": ""
           },
           "bgcolor": "#E5ECF6",
           "radialaxis": {
            "gridcolor": "white",
            "linecolor": "white",
            "ticks": ""
           }
          },
          "scene": {
           "xaxis": {
            "backgroundcolor": "#E5ECF6",
            "gridcolor": "white",
            "gridwidth": 2,
            "linecolor": "white",
            "showbackground": true,
            "ticks": "",
            "zerolinecolor": "white"
           },
           "yaxis": {
            "backgroundcolor": "#E5ECF6",
            "gridcolor": "white",
            "gridwidth": 2,
            "linecolor": "white",
            "showbackground": true,
            "ticks": "",
            "zerolinecolor": "white"
           },
           "zaxis": {
            "backgroundcolor": "#E5ECF6",
            "gridcolor": "white",
            "gridwidth": 2,
            "linecolor": "white",
            "showbackground": true,
            "ticks": "",
            "zerolinecolor": "white"
           }
          },
          "shapedefaults": {
           "line": {
            "color": "#2a3f5f"
           }
          },
          "ternary": {
           "aaxis": {
            "gridcolor": "white",
            "linecolor": "white",
            "ticks": ""
           },
           "baxis": {
            "gridcolor": "white",
            "linecolor": "white",
            "ticks": ""
           },
           "bgcolor": "#E5ECF6",
           "caxis": {
            "gridcolor": "white",
            "linecolor": "white",
            "ticks": ""
           }
          },
          "title": {
           "x": 0.05
          },
          "xaxis": {
           "automargin": true,
           "gridcolor": "white",
           "linecolor": "white",
           "ticks": "",
           "title": {
            "standoff": 15
           },
           "zerolinecolor": "white",
           "zerolinewidth": 2
          },
          "yaxis": {
           "automargin": true,
           "gridcolor": "white",
           "linecolor": "white",
           "ticks": "",
           "title": {
            "standoff": 15
           },
           "zerolinecolor": "white",
           "zerolinewidth": 2
          }
         }
        },
        "xaxis": {
         "anchor": "y",
         "domain": [
          0,
          1
         ],
         "title": {
          "text": "Epoch"
         }
        },
        "yaxis": {
         "anchor": "x",
         "domain": [
          0,
          1
         ],
         "title": {
          "text": "value"
         }
        }
       }
      }
     },
     "metadata": {},
     "output_type": "display_data"
    }
   ],
   "source": [
    "data = pd.read_csv('../Notebooks/loss_logs.csv')\n",
    "fig = px.line(data, x='Epoch', y=data.columns[1:3])\n",
    "fig.show()"
   ]
  },
  {
   "cell_type": "code",
   "execution_count": 539,
   "metadata": {},
   "outputs": [
    {
     "data": {
      "text/plain": [
       "<tf.Tensor: shape=(410, 2), dtype=float32, numpy=\n",
       "array([[-3.79629403e-01, -5.74033968e-02],\n",
       "       [ 8.66265818e-02, -1.64785087e-01],\n",
       "       [-9.35740292e-01,  6.44516200e-02],\n",
       "       [-8.15223396e-01,  3.11758108e-02],\n",
       "       [-5.35393476e-01, -2.94776745e-02],\n",
       "       [-2.10636348e-01, -8.67472887e-02],\n",
       "       [-3.33344787e-01, -7.88853616e-02],\n",
       "       [-1.09439981e+00,  9.40133035e-02],\n",
       "       [-1.03184235e+00,  7.49109834e-02],\n",
       "       [-2.35281989e-01, -1.00506902e-01],\n",
       "       [-2.82257646e-01, -8.21312070e-02],\n",
       "       [-5.62455833e-01, -2.36473419e-02],\n",
       "       [-2.57625997e-01, -9.12646502e-02],\n",
       "       [-6.63161516e-01, -3.12868785e-03],\n",
       "       [-4.73899156e-01, -4.24766913e-02],\n",
       "       [ 8.09804574e-02, -1.58991262e-01],\n",
       "       [ 3.64772230e-02, -1.44595891e-01],\n",
       "       [-1.84108591e+00,  2.49253377e-01],\n",
       "       [-1.14397383e+00,  1.07367516e-01],\n",
       "       [-5.59203148e-01, -2.24338509e-02],\n",
       "       [-4.91052896e-01, -3.41977514e-02],\n",
       "       [-7.90946066e-01,  2.79619955e-02],\n",
       "       [ 1.96598798e-01, -1.85008392e-01],\n",
       "       [-5.48506558e-01, -2.71822531e-02],\n",
       "       [-1.06712711e+00,  7.45839179e-02],\n",
       "       [-1.48003876e+00,  1.79221153e-01],\n",
       "       [-4.78053123e-01, -4.65930402e-02],\n",
       "       [-6.22589886e-01, -1.17549393e-02],\n",
       "       [-1.13066509e-01, -1.18196324e-01],\n",
       "       [ 5.92097417e-02, -1.56604424e-01],\n",
       "       [-7.64172077e-01,  2.04971265e-02],\n",
       "       [ 4.94461626e-01, -2.45578930e-01],\n",
       "       [-1.14088738e+00,  1.03691041e-01],\n",
       "       [-1.63671422e+00,  2.17384309e-01],\n",
       "       [ 4.25858706e-01, -2.27512226e-01],\n",
       "       [ 3.78403425e-01, -2.27582619e-01],\n",
       "       [-1.29659712e+00,  1.36974782e-01],\n",
       "       [-5.58590531e-01, -1.38835423e-02],\n",
       "       [-3.86090964e-01, -6.72973990e-02],\n",
       "       [-3.53620321e-01, -7.61952549e-02],\n",
       "       [-7.69346058e-01,  2.49832459e-02],\n",
       "       [ 2.62524396e-01, -1.97085664e-01],\n",
       "       [-6.89684629e-01,  1.36670060e-02],\n",
       "       [ 1.44194067e-01, -1.85785636e-01],\n",
       "       [-2.77352899e-01, -8.38034004e-02],\n",
       "       [-2.81126320e-01, -8.75816792e-02],\n",
       "       [-1.44107842e+00,  1.71454832e-01],\n",
       "       [-1.12122583e+00,  1.01889148e-01],\n",
       "       [-6.09258115e-01, -8.37259367e-03],\n",
       "       [ 2.03803003e-01, -1.93646267e-01],\n",
       "       [-2.54868627e-01, -9.63815898e-02],\n",
       "       [-1.98517397e-01, -1.05444416e-01],\n",
       "       [-1.04212320e+00,  8.19535106e-02],\n",
       "       [-1.78508863e-01, -1.09005570e-01],\n",
       "       [-1.45485139e+00,  1.82321504e-01],\n",
       "       [ 2.57741306e-02, -1.49994344e-01],\n",
       "       [-1.91441298e+00,  2.63570100e-01],\n",
       "       [-3.34494114e-01, -8.84710699e-02],\n",
       "       [-5.96096098e-01, -1.79928094e-02],\n",
       "       [-3.79462928e-01, -5.44251278e-02],\n",
       "       [-9.93964493e-01,  6.50110990e-02],\n",
       "       [-1.43823576e+00,  1.61676392e-01],\n",
       "       [-2.35513002e-01, -9.68319476e-02],\n",
       "       [-9.36019272e-02, -1.22222111e-01],\n",
       "       [-5.04481979e-03, -1.51038274e-01],\n",
       "       [-1.42734158e+00,  1.59155786e-01],\n",
       "       [-1.14106655e+00,  1.01386070e-01],\n",
       "       [-6.67925358e-01,  2.33301055e-03],\n",
       "       [ 4.50328261e-01, -2.35435754e-01],\n",
       "       [-1.04499197e+00,  7.96789080e-02],\n",
       "       [-1.93643615e-01, -1.07314885e-01],\n",
       "       [-6.77022576e-01,  1.60367042e-03],\n",
       "       [-1.39237389e-01, -1.14118516e-01],\n",
       "       [ 3.35106403e-01, -2.09607258e-01],\n",
       "       [-5.47961473e-01, -1.91567428e-02],\n",
       "       [ 1.39000431e-01, -1.66451678e-01],\n",
       "       [-1.03925395e+00,  7.56359845e-02],\n",
       "       [ 2.15289414e-01, -1.94963261e-01],\n",
       "       [-4.61027771e-01, -4.91212495e-02],\n",
       "       [-1.58924967e-01, -1.00283176e-01],\n",
       "       [-1.27577615e+00,  1.28942639e-01],\n",
       "       [ 5.51330447e-01, -2.56648451e-01],\n",
       "       [-1.04533792e+00,  6.73501939e-02],\n",
       "       [-6.46605849e-01,  2.69825011e-03],\n",
       "       [-1.25957978e+00,  1.18886396e-01],\n",
       "       [-7.55077958e-01,  1.86471604e-02],\n",
       "       [-1.37383306e+00,  1.53257728e-01],\n",
       "       [-7.67791390e-01,  1.99992694e-02],\n",
       "       [-6.32074416e-01, -1.32635236e-02],\n",
       "       [-6.79739594e-01,  4.18043695e-04],\n",
       "       [-7.02580273e-01,  9.05187801e-03],\n",
       "       [-4.92836148e-01, -3.57694328e-02],\n",
       "       [-8.51014316e-01,  4.04690877e-02],\n",
       "       [ 2.70429730e-01, -1.99661136e-01],\n",
       "       [-1.24919569e+00,  1.30055025e-01],\n",
       "       [-4.40097570e-01, -4.34457585e-02],\n",
       "       [ 8.03180099e-01, -3.17906410e-01],\n",
       "       [-3.50952685e-01, -7.29742274e-02],\n",
       "       [-5.18511593e-01, -2.98058894e-02],\n",
       "       [-4.70145941e-01, -3.92182618e-02],\n",
       "       [-2.57938921e-01, -8.62795860e-02],\n",
       "       [ 5.54773152e-01, -2.62547672e-01],\n",
       "       [-5.17928958e-01, -3.18007432e-02],\n",
       "       [ 1.71676278e-01, -1.77773625e-01],\n",
       "       [-8.48747551e-01,  3.60715725e-02],\n",
       "       [-6.51263118e-01, -4.35859850e-03],\n",
       "       [-2.33162001e-01, -9.49236006e-02],\n",
       "       [-6.06026530e-01, -1.22043118e-02],\n",
       "       [-2.29939103e-01, -9.70889628e-02],\n",
       "       [-4.36699420e-01, -5.31953759e-02],\n",
       "       [ 2.41756439e-01, -1.87517047e-01],\n",
       "       [ 1.87178254e-01, -1.83360890e-01],\n",
       "       [-7.48941958e-01,  1.89566221e-02],\n",
       "       [ 2.56344199e-01, -1.99035287e-01],\n",
       "       [-1.74413040e-01, -9.89249349e-02],\n",
       "       [-6.39884949e-01, -9.13448632e-04],\n",
       "       [-7.98976496e-02, -1.29092768e-01],\n",
       "       [-2.29033098e-01, -1.03785574e-01],\n",
       "       [-5.14639974e-01, -3.78019139e-02],\n",
       "       [-6.03182375e-01, -2.79836021e-02],\n",
       "       [-3.18680704e-02, -1.39078453e-01],\n",
       "       [ 4.57190275e-01, -2.33393982e-01],\n",
       "       [ 6.72853649e-01, -2.93273628e-01],\n",
       "       [ 3.46525162e-01, -2.21412465e-01],\n",
       "       [-5.67567587e-01, -2.55313087e-02],\n",
       "       [-9.90707755e-01,  6.80215359e-02],\n",
       "       [-4.82652634e-01, -3.00912075e-02],\n",
       "       [-1.11018407e+00,  1.01369366e-01],\n",
       "       [-3.56478989e-01, -6.71675354e-02],\n",
       "       [-6.43772662e-01, -5.06076962e-04],\n",
       "       [-5.29487073e-01, -2.82449983e-02],\n",
       "       [-8.69546235e-01,  3.92538942e-02],\n",
       "       [-1.51116598e+00,  1.83423147e-01],\n",
       "       [ 2.34239429e-01, -1.93745732e-01],\n",
       "       [ 1.77064110e-02, -1.49446756e-01],\n",
       "       [-6.14657164e-01, -1.65308714e-02],\n",
       "       [-5.67822993e-01, -3.12780254e-02],\n",
       "       [-5.32758415e-01, -3.41849029e-02],\n",
       "       [-1.13711774e+00,  9.27885026e-02],\n",
       "       [-2.81139612e-01, -7.76162744e-02],\n",
       "       [-3.76406103e-01, -6.48870841e-02],\n",
       "       [-1.03622091e+00,  8.02511424e-02],\n",
       "       [-1.83166876e-01, -1.06460601e-01],\n",
       "       [ 2.38538504e-01, -1.90315172e-01],\n",
       "       [ 3.84557456e-01, -2.23332465e-01],\n",
       "       [-2.47925729e-01, -9.09985006e-02],\n",
       "       [-1.59911370e+00,  2.01148883e-01],\n",
       "       [-5.89475110e-02, -1.33270800e-01],\n",
       "       [ 2.08911553e-01, -1.84027791e-01],\n",
       "       [-2.94622183e-01, -7.03084469e-02],\n",
       "       [ 5.23864031e-01, -2.64432877e-01],\n",
       "       [ 3.59541446e-01, -2.15418473e-01],\n",
       "       [-9.79759037e-01,  6.18480332e-02],\n",
       "       [-7.69819200e-01,  2.28511952e-02],\n",
       "       [-1.67115545e+00,  2.15789244e-01],\n",
       "       [-1.54527450e+00,  1.90880552e-01],\n",
       "       [-2.05204964e+00,  2.93500513e-01],\n",
       "       [-1.38102460e+00,  1.47524938e-01],\n",
       "       [-1.36064798e-01, -1.13789588e-01],\n",
       "       [-6.98099852e-01,  6.42940030e-03],\n",
       "       [-1.48901522e+00,  1.71476275e-01],\n",
       "       [-3.87942463e-01, -6.03644103e-02],\n",
       "       [-6.99429631e-01,  4.84134350e-03],\n",
       "       [-4.68951836e-02, -1.29391074e-01],\n",
       "       [ 3.89350682e-01, -2.25395113e-01],\n",
       "       [-8.50927413e-01,  4.44524027e-02],\n",
       "       [ 8.02783191e-01, -3.17905188e-01],\n",
       "       [-4.13247496e-01, -5.27524613e-02],\n",
       "       [-1.05038285e+00,  8.47327411e-02],\n",
       "       [ 1.19795132e+00, -4.02016163e-01],\n",
       "       [-1.30944133e+00,  1.36339128e-01],\n",
       "       [-6.28366411e-01, -1.11763012e-02],\n",
       "       [-1.49777579e+00,  1.76636294e-01],\n",
       "       [-1.00985146e+00,  7.16755390e-02],\n",
       "       [-3.86141479e-01, -5.58615066e-02],\n",
       "       [-6.19942188e-01, -3.21069360e-03],\n",
       "       [ 8.05177271e-01, -3.11287969e-01],\n",
       "       [-3.05051822e-02, -1.27208203e-01],\n",
       "       [-5.16806185e-01, -3.72048914e-02],\n",
       "       [-1.15937436e+00,  9.80798006e-02],\n",
       "       [-2.69798636e-01, -8.42304230e-02],\n",
       "       [-9.93985534e-01,  7.53740370e-02],\n",
       "       [-4.79780942e-01, -3.58206369e-02],\n",
       "       [-6.45739794e-01, -9.14563052e-03],\n",
       "       [-4.89541918e-01, -3.50929201e-02],\n",
       "       [-4.32621449e-01, -5.45973815e-02],\n",
       "       [-4.14400011e-01, -5.74048758e-02],\n",
       "       [-4.41413611e-01, -5.04368246e-02],\n",
       "       [-6.97020888e-02, -1.29202083e-01],\n",
       "       [-1.36887550e+00,  1.49854705e-01],\n",
       "       [-5.17542124e-01, -2.88475174e-02],\n",
       "       [-1.67780876e-01, -1.07912406e-01],\n",
       "       [-5.22925198e-01, -3.06099840e-02],\n",
       "       [ 1.32731879e+00, -4.29552644e-01],\n",
       "       [-5.52922964e-01, -2.84506977e-02],\n",
       "       [-5.54226696e-01, -1.90534368e-02],\n",
       "       [ 4.16150957e-01, -2.36127004e-01],\n",
       "       [-5.75939834e-01, -2.32258420e-02],\n",
       "       [-1.20233018e-02, -1.45181164e-01],\n",
       "       [-2.57833511e-01, -8.15717429e-02],\n",
       "       [-3.71110290e-01, -6.04662038e-02],\n",
       "       [-4.91566025e-03, -1.50830537e-01],\n",
       "       [-4.79377836e-01, -4.43125181e-02],\n",
       "       [-2.75324196e-01, -8.95454139e-02],\n",
       "       [ 3.63963366e-01, -2.26799428e-01],\n",
       "       [-1.57165623e+00,  1.90541834e-01],\n",
       "       [-3.44874501e-01, -6.45037889e-02],\n",
       "       [-1.04122686e+00,  8.14876258e-02],\n",
       "       [ 2.36414045e-01, -1.98136434e-01],\n",
       "       [-7.29430437e-01,  1.68066565e-02],\n",
       "       [ 2.13136107e-01, -1.92379385e-01],\n",
       "       [ 1.22972108e-01, -1.76604554e-01],\n",
       "       [-9.86490846e-02, -1.18850857e-01],\n",
       "       [-8.08974564e-01,  3.79636474e-02],\n",
       "       [-1.11867428e+00,  9.54965800e-02],\n",
       "       [-4.87161815e-01, -3.61784175e-02],\n",
       "       [-7.11567223e-01,  6.01168722e-04],\n",
       "       [-1.93128631e-01, -1.03137493e-01],\n",
       "       [-8.53830874e-01,  4.01882194e-02],\n",
       "       [-5.24929225e-01, -3.29577439e-02],\n",
       "       [-8.08994472e-01,  2.30193324e-02],\n",
       "       [-2.47280240e-01, -8.61979723e-02],\n",
       "       [-1.95650592e-01, -9.56256390e-02],\n",
       "       [-6.09027594e-02, -1.26582474e-01],\n",
       "       [-4.16060358e-01, -5.65651692e-02],\n",
       "       [-1.01720341e-01, -1.23633578e-01],\n",
       "       [-7.50151753e-01,  1.80460457e-02],\n",
       "       [ 2.33425405e-02, -1.47653297e-01],\n",
       "       [ 1.35390818e-01, -1.73738271e-01],\n",
       "       [ 7.34854415e-02, -1.57983512e-01],\n",
       "       [-1.07946539e+00,  8.19305927e-02],\n",
       "       [-4.47446018e-01, -5.55845164e-02],\n",
       "       [-4.24353749e-01, -4.82295640e-02],\n",
       "       [-1.35461688e+00,  1.46049514e-01],\n",
       "       [-1.01496947e+00,  6.50187284e-02],\n",
       "       [-2.47290507e-01, -8.97460580e-02],\n",
       "       [ 4.57893848e-01, -2.47786462e-01],\n",
       "       [-1.03175092e+00,  7.53790438e-02],\n",
       "       [-1.03683627e+00,  7.77632296e-02],\n",
       "       [-1.52425492e+00,  1.75741300e-01],\n",
       "       [-4.41380292e-01, -4.11002897e-02],\n",
       "       [-1.13297582e-01, -1.27911538e-01],\n",
       "       [-1.15469463e-01, -1.17966935e-01],\n",
       "       [-8.81895721e-01,  4.94023114e-02],\n",
       "       [-6.66714370e-01, -8.30005482e-03],\n",
       "       [ 4.19998586e-01, -2.33242586e-01],\n",
       "       [ 1.01764619e-01, -1.70605853e-01],\n",
       "       [-9.61255133e-01,  5.44703938e-02],\n",
       "       [-2.96064138e-01, -7.51640499e-02],\n",
       "       [-9.76096317e-02, -1.20583206e-01],\n",
       "       [-6.58247024e-02, -1.29665896e-01],\n",
       "       [-2.10599124e-01, -1.04176596e-01],\n",
       "       [-2.45901302e-01, -9.32471305e-02],\n",
       "       [-9.83004868e-01,  6.81865215e-02],\n",
       "       [-3.40510637e-01, -7.54354298e-02],\n",
       "       [ 4.66543883e-01, -2.48541862e-01],\n",
       "       [-9.94322896e-01,  7.17940181e-02],\n",
       "       [-1.09801507e+00,  9.08309370e-02],\n",
       "       [-6.63096428e-01, -4.60793450e-03],\n",
       "       [-9.60262895e-01,  6.11157306e-02],\n",
       "       [ 1.22632436e-01, -1.67095080e-01],\n",
       "       [-9.46874857e-01,  5.98151572e-02],\n",
       "       [-2.62175471e-01, -8.11204463e-02],\n",
       "       [-1.12096834e+00,  9.92593318e-02],\n",
       "       [ 9.41611603e-02, -1.59741551e-01],\n",
       "       [ 4.28946093e-02, -1.53106496e-01],\n",
       "       [-4.23516572e-01, -4.51567061e-02],\n",
       "       [ 5.42491898e-02, -1.58145100e-01],\n",
       "       [-7.13574111e-01,  1.80513412e-02],\n",
       "       [-9.68934953e-01,  6.33223355e-02],\n",
       "       [ 3.96814138e-01, -2.40014508e-01],\n",
       "       [-1.36107874e+00,  1.52484879e-01],\n",
       "       [-9.81030881e-01,  7.08005130e-02],\n",
       "       [ 1.34051383e-01, -1.75364539e-01],\n",
       "       [-1.44043565e+00,  1.59999117e-01],\n",
       "       [ 5.41919410e-01, -2.66004354e-01],\n",
       "       [-6.50345027e-01, -4.50286735e-03],\n",
       "       [-1.21183358e-01, -1.14725381e-01],\n",
       "       [-1.33590683e-01, -1.14899784e-01],\n",
       "       [-7.22657800e-01,  1.11850388e-02],\n",
       "       [-3.60673308e-01, -6.54889792e-02],\n",
       "       [-3.84477913e-01, -6.80762529e-02],\n",
       "       [-6.00596964e-01, -1.58198848e-02],\n",
       "       [-1.92470416e-01, -9.34180468e-02],\n",
       "       [-9.22507584e-01,  5.15096076e-02],\n",
       "       [-6.02265775e-01, -2.30718441e-02],\n",
       "       [-8.95521283e-01,  4.53196131e-02],\n",
       "       [ 1.01903892e+00, -3.68140489e-01],\n",
       "       [-6.06403589e-01, -2.37159394e-02],\n",
       "       [-3.71487230e-01, -6.29710332e-02],\n",
       "       [ 5.07577300e-01, -2.55951047e-01],\n",
       "       [-9.03955102e-01,  5.89581840e-02],\n",
       "       [-8.32481124e-03, -1.40460581e-01],\n",
       "       [-1.14113557e+00,  9.37599093e-02],\n",
       "       [ 3.53418440e-02, -1.43941715e-01],\n",
       "       [-8.01240623e-01,  2.30055228e-02],\n",
       "       [-9.83563662e-02, -1.20743424e-01],\n",
       "       [-8.67156506e-01,  5.37219010e-02],\n",
       "       [-1.28346300e+00,  1.31794170e-01],\n",
       "       [-4.14640337e-01, -6.04582094e-02],\n",
       "       [ 3.02103549e-01, -2.13893428e-01],\n",
       "       [-9.06460643e-01,  5.44303618e-02],\n",
       "       [-1.97087433e-02, -1.34820074e-01],\n",
       "       [-3.33769619e-01, -7.08754063e-02],\n",
       "       [-4.33349401e-01, -5.82928658e-02],\n",
       "       [ 2.19827980e-01, -1.91521972e-01],\n",
       "       [-3.66332382e-01, -7.28317350e-02],\n",
       "       [-2.79429108e-01, -8.62342566e-02],\n",
       "       [-1.23920046e-01, -1.20802045e-01],\n",
       "       [-3.95260781e-01, -5.02558835e-02],\n",
       "       [-1.24085546e+00,  1.21582136e-01],\n",
       "       [-1.58408308e+00,  1.95445254e-01],\n",
       "       [-5.88868618e-01, -2.25358047e-02],\n",
       "       [-9.35747147e-01,  5.54954149e-02],\n",
       "       [ 7.70029798e-02, -1.61338538e-01],\n",
       "       [-4.00356770e-01, -5.99893965e-02],\n",
       "       [ 4.98374104e-02, -1.54605463e-01],\n",
       "       [-1.09984112e+00,  9.28241760e-02],\n",
       "       [-7.85857618e-01,  2.76569873e-02],\n",
       "       [-1.16076410e+00,  1.12848744e-01],\n",
       "       [-5.46372175e-01, -3.11658531e-02],\n",
       "       [-7.52878547e-01,  2.22776569e-02],\n",
       "       [-1.05794978e+00,  7.68642277e-02],\n",
       "       [-4.84781295e-01, -4.02750783e-02],\n",
       "       [-1.23485553e+00,  1.14701495e-01],\n",
       "       [-1.77775323e+00,  2.36718193e-01],\n",
       "       [-7.04515874e-01,  1.66129209e-02],\n",
       "       [-3.16727191e-01, -8.33198130e-02],\n",
       "       [-8.26287568e-01,  2.87378207e-02],\n",
       "       [-8.19232225e-01,  3.45372446e-02],\n",
       "       [-4.53388870e-01, -5.70936091e-02],\n",
       "       [-3.54032129e-01, -6.64986372e-02],\n",
       "       [-1.01071763e+00,  7.75117129e-02],\n",
       "       [-1.55308142e-01, -1.16395071e-01],\n",
       "       [-4.79338169e-01, -3.44967470e-02],\n",
       "       [-1.26843587e-01, -1.13760233e-01],\n",
       "       [-1.79006314e+00,  2.47072563e-01],\n",
       "       [-1.14679170e+00,  9.95412618e-02],\n",
       "       [ 8.37057084e-02, -1.64309353e-01],\n",
       "       [-3.41096759e-01, -6.35920018e-02],\n",
       "       [-3.18598717e-01, -7.82168657e-02],\n",
       "       [-9.78226781e-01,  7.90504962e-02],\n",
       "       [-1.50490296e+00,  1.80084392e-01],\n",
       "       [-3.33284378e-01, -7.26156682e-02],\n",
       "       [-1.36376411e-01, -1.21237129e-01],\n",
       "       [-1.57788670e+00,  1.92813426e-01],\n",
       "       [ 1.47882968e-01, -1.81265041e-01],\n",
       "       [-5.21846533e-01, -2.54513286e-02],\n",
       "       [-2.76854467e-02, -1.47121057e-01],\n",
       "       [-2.29093269e-01, -9.55112427e-02],\n",
       "       [-1.13838732e+00,  1.02921635e-01],\n",
       "       [-3.23273212e-01, -8.34290981e-02],\n",
       "       [-6.49656832e-01,  5.64026460e-03],\n",
       "       [ 3.74698669e-01, -2.25873515e-01],\n",
       "       [-1.02544951e+00,  7.83225447e-02],\n",
       "       [-2.04619437e-01, -9.75816101e-02],\n",
       "       [-1.59897488e-02, -1.38799235e-01],\n",
       "       [-1.50721955e+00,  1.74730480e-01],\n",
       "       [-1.55350581e-01, -1.10313699e-01],\n",
       "       [-4.66343224e-01, -4.36994173e-02],\n",
       "       [-8.04135680e-01,  2.97668539e-02],\n",
       "       [-4.99254614e-01, -4.16703038e-02],\n",
       "       [-5.34763336e-01, -2.66609043e-02],\n",
       "       [ 6.07716501e-01, -2.74272650e-01],\n",
       "       [-2.40761843e-02, -1.47747755e-01],\n",
       "       [-3.96563888e-01, -6.01487458e-02],\n",
       "       [-3.56707782e-01, -6.92687333e-02],\n",
       "       [ 4.76263911e-01, -2.38791183e-01],\n",
       "       [-4.46488932e-02, -1.36512235e-01],\n",
       "       [-2.18930654e-03, -1.41370565e-01],\n",
       "       [-6.05052292e-01, -1.95084624e-02],\n",
       "       [ 2.57142633e-01, -2.06939563e-01],\n",
       "       [-3.42594326e-01, -7.48209357e-02],\n",
       "       [-6.65354788e-01,  5.59336320e-03],\n",
       "       [ 8.27835202e-02, -1.58726558e-01],\n",
       "       [-2.22810417e-01, -8.76407027e-02],\n",
       "       [-1.39981735e+00,  1.59032732e-01],\n",
       "       [-4.12831247e-01, -5.54698817e-02],\n",
       "       [-1.30527031e+00,  1.36960685e-01],\n",
       "       [-4.01686698e-01, -6.13815747e-02],\n",
       "       [-4.48034495e-01, -4.71933372e-02],\n",
       "       [ 2.46779889e-01, -2.04236820e-01],\n",
       "       [-8.47934559e-02, -1.19277731e-01],\n",
       "       [-8.26529801e-01,  3.50389816e-02],\n",
       "       [-6.20809734e-01, -8.95798672e-03],\n",
       "       [-9.87713873e-01,  7.54844695e-02],\n",
       "       [-3.00287813e-01, -7.54995048e-02],\n",
       "       [-1.23611772e+00,  1.19866937e-01],\n",
       "       [-8.02653909e-01,  3.08793224e-02],\n",
       "       [-6.36533380e-01, -1.37766898e-02],\n",
       "       [-1.02735676e-01, -1.27871931e-01],\n",
       "       [-2.33300269e-01, -9.26511586e-02],\n",
       "       [ 5.64815462e-01, -2.69813031e-01],\n",
       "       [-7.78325081e-01,  1.62385851e-02],\n",
       "       [-5.19986331e-01, -2.59564295e-02],\n",
       "       [ 1.41668305e-01, -1.69131830e-01],\n",
       "       [-1.45850587e+00,  1.62245005e-01],\n",
       "       [-4.52424258e-01, -4.57692780e-02],\n",
       "       [ 3.73830229e-01, -2.35418424e-01],\n",
       "       [-4.67512101e-01, -3.73771600e-02],\n",
       "       [-2.20099851e-01, -8.95628482e-02],\n",
       "       [-7.65016496e-01,  1.63756385e-02],\n",
       "       [-8.40871334e-01,  3.32209431e-02],\n",
       "       [-4.59138602e-01, -3.42578404e-02],\n",
       "       [-1.02201335e-01, -1.27153367e-01],\n",
       "       [ 4.20301408e-01, -2.30843171e-01],\n",
       "       [-2.76937604e-01, -7.89899677e-02],\n",
       "       [-6.92183971e-01,  5.02984412e-03],\n",
       "       [ 6.18945360e-01, -2.81598151e-01],\n",
       "       [ 2.72805095e-01, -2.02641025e-01]], dtype=float32)>"
      ]
     },
     "execution_count": 539,
     "metadata": {},
     "output_type": "execute_result"
    }
   ],
   "source": [
    "noise = np.random.normal(0, 1, (410, 2))\n",
    "G(noise)"
   ]
  },
  {
   "cell_type": "code",
   "execution_count": 540,
   "metadata": {},
   "outputs": [
    {
     "data": {
      "text/plain": [
       "array([[0.01143886, 0.00269057],\n",
       "       [0.00063166, 0.0072774 ],\n",
       "       [0.01782796, 0.02821015],\n",
       "       ...,\n",
       "       [0.00768299, 0.00195759],\n",
       "       [0.00339559, 0.00127959],\n",
       "       [0.0045912 , 0.00667492]])"
      ]
     },
     "execution_count": 540,
     "metadata": {},
     "output_type": "execute_result"
    }
   ],
   "source": [
    "df"
   ]
  }
 ],
 "metadata": {
  "language_info": {
   "name": "python"
  },
  "orig_nbformat": 4
 },
 "nbformat": 4,
 "nbformat_minor": 2
}
