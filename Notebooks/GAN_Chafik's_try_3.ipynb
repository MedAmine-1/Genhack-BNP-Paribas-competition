{
  "nbformat": 4,
  "nbformat_minor": 5,
  "metadata": {
    "kernelspec": {
      "display_name": "Python 3",
      "language": "python",
      "name": "python3"
    },
    "language_info": {
      "codemirror_mode": {
        "name": "ipython",
        "version": 3
      },
      "file_extension": ".py",
      "mimetype": "text/x-python",
      "name": "python",
      "nbconvert_exporter": "python",
      "pygments_lexer": "ipython3",
      "version": "3.8.8"
    },
    "colab": {
      "name": "GAN Chafik's try 3.ipynb",
      "provenance": []
    },
    "widgets": {
      "application/vnd.jupyter.widget-state+json": {
        "89d5b387958b4fa8a9160978528cabc2": {
          "model_module": "@jupyter-widgets/controls",
          "model_name": "HBoxModel",
          "model_module_version": "1.5.0",
          "state": {
            "_view_name": "HBoxView",
            "_dom_classes": [],
            "_model_name": "HBoxModel",
            "_view_module": "@jupyter-widgets/controls",
            "_model_module_version": "1.5.0",
            "_view_count": null,
            "_view_module_version": "1.5.0",
            "box_style": "",
            "layout": "IPY_MODEL_fdb1214cc84543f99b04bd4ee93bb4a9",
            "_model_module": "@jupyter-widgets/controls",
            "children": [
              "IPY_MODEL_4e079294ef6f4faca2f693b568a384f9",
              "IPY_MODEL_319966cb5e3a4a74b3ee29267cb8d452",
              "IPY_MODEL_3572b8be0d314fa59da0a39fe6ebc2c4"
            ]
          }
        },
        "fdb1214cc84543f99b04bd4ee93bb4a9": {
          "model_module": "@jupyter-widgets/base",
          "model_name": "LayoutModel",
          "model_module_version": "1.2.0",
          "state": {
            "_view_name": "LayoutView",
            "grid_template_rows": null,
            "right": null,
            "justify_content": null,
            "_view_module": "@jupyter-widgets/base",
            "overflow": null,
            "_model_module_version": "1.2.0",
            "_view_count": null,
            "flex_flow": null,
            "width": null,
            "min_width": null,
            "border": null,
            "align_items": null,
            "bottom": null,
            "_model_module": "@jupyter-widgets/base",
            "top": null,
            "grid_column": null,
            "overflow_y": null,
            "overflow_x": null,
            "grid_auto_flow": null,
            "grid_area": null,
            "grid_template_columns": null,
            "flex": null,
            "_model_name": "LayoutModel",
            "justify_items": null,
            "grid_row": null,
            "max_height": null,
            "align_content": null,
            "visibility": null,
            "align_self": null,
            "height": null,
            "min_height": null,
            "padding": null,
            "grid_auto_rows": null,
            "grid_gap": null,
            "max_width": null,
            "order": null,
            "_view_module_version": "1.2.0",
            "grid_template_areas": null,
            "object_position": null,
            "object_fit": null,
            "grid_auto_columns": null,
            "margin": null,
            "display": null,
            "left": null
          }
        },
        "4e079294ef6f4faca2f693b568a384f9": {
          "model_module": "@jupyter-widgets/controls",
          "model_name": "HTMLModel",
          "model_module_version": "1.5.0",
          "state": {
            "_view_name": "HTMLView",
            "style": "IPY_MODEL_d7f579c3ca8049e39b59ca64acc4ce67",
            "_dom_classes": [],
            "description": "",
            "_model_name": "HTMLModel",
            "placeholder": "​",
            "_view_module": "@jupyter-widgets/controls",
            "_model_module_version": "1.5.0",
            "value": "100%",
            "_view_count": null,
            "_view_module_version": "1.5.0",
            "description_tooltip": null,
            "_model_module": "@jupyter-widgets/controls",
            "layout": "IPY_MODEL_178bcc901bbb40e68321b15f07310c3f"
          }
        },
        "319966cb5e3a4a74b3ee29267cb8d452": {
          "model_module": "@jupyter-widgets/controls",
          "model_name": "FloatProgressModel",
          "model_module_version": "1.5.0",
          "state": {
            "_view_name": "ProgressView",
            "style": "IPY_MODEL_7e7cc9c253514ac69d6bff22fa5c8d88",
            "_dom_classes": [],
            "description": "",
            "_model_name": "FloatProgressModel",
            "bar_style": "success",
            "max": 1000,
            "_view_module": "@jupyter-widgets/controls",
            "_model_module_version": "1.5.0",
            "value": 1000,
            "_view_count": null,
            "_view_module_version": "1.5.0",
            "orientation": "horizontal",
            "min": 0,
            "description_tooltip": null,
            "_model_module": "@jupyter-widgets/controls",
            "layout": "IPY_MODEL_f6a7c92504fc437e85fa5879f1c9ad44"
          }
        },
        "3572b8be0d314fa59da0a39fe6ebc2c4": {
          "model_module": "@jupyter-widgets/controls",
          "model_name": "HTMLModel",
          "model_module_version": "1.5.0",
          "state": {
            "_view_name": "HTMLView",
            "style": "IPY_MODEL_4ff4ac45d7804e91a03d1331b0229dc0",
            "_dom_classes": [],
            "description": "",
            "_model_name": "HTMLModel",
            "placeholder": "​",
            "_view_module": "@jupyter-widgets/controls",
            "_model_module_version": "1.5.0",
            "value": " 1000/1000 [01:03&lt;00:00, 15.28it/s]",
            "_view_count": null,
            "_view_module_version": "1.5.0",
            "description_tooltip": null,
            "_model_module": "@jupyter-widgets/controls",
            "layout": "IPY_MODEL_a487f59be2c94ca69f48678702fc9ec9"
          }
        },
        "d7f579c3ca8049e39b59ca64acc4ce67": {
          "model_module": "@jupyter-widgets/controls",
          "model_name": "DescriptionStyleModel",
          "model_module_version": "1.5.0",
          "state": {
            "_view_name": "StyleView",
            "_model_name": "DescriptionStyleModel",
            "description_width": "",
            "_view_module": "@jupyter-widgets/base",
            "_model_module_version": "1.5.0",
            "_view_count": null,
            "_view_module_version": "1.2.0",
            "_model_module": "@jupyter-widgets/controls"
          }
        },
        "178bcc901bbb40e68321b15f07310c3f": {
          "model_module": "@jupyter-widgets/base",
          "model_name": "LayoutModel",
          "model_module_version": "1.2.0",
          "state": {
            "_view_name": "LayoutView",
            "grid_template_rows": null,
            "right": null,
            "justify_content": null,
            "_view_module": "@jupyter-widgets/base",
            "overflow": null,
            "_model_module_version": "1.2.0",
            "_view_count": null,
            "flex_flow": null,
            "width": null,
            "min_width": null,
            "border": null,
            "align_items": null,
            "bottom": null,
            "_model_module": "@jupyter-widgets/base",
            "top": null,
            "grid_column": null,
            "overflow_y": null,
            "overflow_x": null,
            "grid_auto_flow": null,
            "grid_area": null,
            "grid_template_columns": null,
            "flex": null,
            "_model_name": "LayoutModel",
            "justify_items": null,
            "grid_row": null,
            "max_height": null,
            "align_content": null,
            "visibility": null,
            "align_self": null,
            "height": null,
            "min_height": null,
            "padding": null,
            "grid_auto_rows": null,
            "grid_gap": null,
            "max_width": null,
            "order": null,
            "_view_module_version": "1.2.0",
            "grid_template_areas": null,
            "object_position": null,
            "object_fit": null,
            "grid_auto_columns": null,
            "margin": null,
            "display": null,
            "left": null
          }
        },
        "7e7cc9c253514ac69d6bff22fa5c8d88": {
          "model_module": "@jupyter-widgets/controls",
          "model_name": "ProgressStyleModel",
          "model_module_version": "1.5.0",
          "state": {
            "_view_name": "StyleView",
            "_model_name": "ProgressStyleModel",
            "description_width": "",
            "_view_module": "@jupyter-widgets/base",
            "_model_module_version": "1.5.0",
            "_view_count": null,
            "_view_module_version": "1.2.0",
            "bar_color": null,
            "_model_module": "@jupyter-widgets/controls"
          }
        },
        "f6a7c92504fc437e85fa5879f1c9ad44": {
          "model_module": "@jupyter-widgets/base",
          "model_name": "LayoutModel",
          "model_module_version": "1.2.0",
          "state": {
            "_view_name": "LayoutView",
            "grid_template_rows": null,
            "right": null,
            "justify_content": null,
            "_view_module": "@jupyter-widgets/base",
            "overflow": null,
            "_model_module_version": "1.2.0",
            "_view_count": null,
            "flex_flow": null,
            "width": null,
            "min_width": null,
            "border": null,
            "align_items": null,
            "bottom": null,
            "_model_module": "@jupyter-widgets/base",
            "top": null,
            "grid_column": null,
            "overflow_y": null,
            "overflow_x": null,
            "grid_auto_flow": null,
            "grid_area": null,
            "grid_template_columns": null,
            "flex": null,
            "_model_name": "LayoutModel",
            "justify_items": null,
            "grid_row": null,
            "max_height": null,
            "align_content": null,
            "visibility": null,
            "align_self": null,
            "height": null,
            "min_height": null,
            "padding": null,
            "grid_auto_rows": null,
            "grid_gap": null,
            "max_width": null,
            "order": null,
            "_view_module_version": "1.2.0",
            "grid_template_areas": null,
            "object_position": null,
            "object_fit": null,
            "grid_auto_columns": null,
            "margin": null,
            "display": null,
            "left": null
          }
        },
        "4ff4ac45d7804e91a03d1331b0229dc0": {
          "model_module": "@jupyter-widgets/controls",
          "model_name": "DescriptionStyleModel",
          "model_module_version": "1.5.0",
          "state": {
            "_view_name": "StyleView",
            "_model_name": "DescriptionStyleModel",
            "description_width": "",
            "_view_module": "@jupyter-widgets/base",
            "_model_module_version": "1.5.0",
            "_view_count": null,
            "_view_module_version": "1.2.0",
            "_model_module": "@jupyter-widgets/controls"
          }
        },
        "a487f59be2c94ca69f48678702fc9ec9": {
          "model_module": "@jupyter-widgets/base",
          "model_name": "LayoutModel",
          "model_module_version": "1.2.0",
          "state": {
            "_view_name": "LayoutView",
            "grid_template_rows": null,
            "right": null,
            "justify_content": null,
            "_view_module": "@jupyter-widgets/base",
            "overflow": null,
            "_model_module_version": "1.2.0",
            "_view_count": null,
            "flex_flow": null,
            "width": null,
            "min_width": null,
            "border": null,
            "align_items": null,
            "bottom": null,
            "_model_module": "@jupyter-widgets/base",
            "top": null,
            "grid_column": null,
            "overflow_y": null,
            "overflow_x": null,
            "grid_auto_flow": null,
            "grid_area": null,
            "grid_template_columns": null,
            "flex": null,
            "_model_name": "LayoutModel",
            "justify_items": null,
            "grid_row": null,
            "max_height": null,
            "align_content": null,
            "visibility": null,
            "align_self": null,
            "height": null,
            "min_height": null,
            "padding": null,
            "grid_auto_rows": null,
            "grid_gap": null,
            "max_width": null,
            "order": null,
            "_view_module_version": "1.2.0",
            "grid_template_areas": null,
            "object_position": null,
            "object_fit": null,
            "grid_auto_columns": null,
            "margin": null,
            "display": null,
            "left": null
          }
        }
      }
    }
  },
  "cells": [
    {
      "cell_type": "code",
      "metadata": {
        "id": "9ec024bc"
      },
      "source": [
        "%matplotlib inline\n",
        "import os\n",
        "import random\n",
        "import numpy as np\n",
        "import pandas as pd\n",
        "import matplotlib.pyplot as plt\n",
        "import seaborn as sns\n",
        "from tqdm import tqdm_notebook as tqdm\n",
        "from keras.models import Model\n",
        "from keras.layers import Input, Reshape\n",
        "from keras.layers.core import Dense, Activation, Dropout, Flatten\n",
        "from keras.layers import LayerNormalization\n",
        "#from keras.layers.normalization import BatchNormalization\n",
        "from keras.layers.convolutional import UpSampling1D, Conv1D\n",
        "from keras.layers.advanced_activations import LeakyReLU\n",
        "from tensorflow.keras.optimizers import Adam,SGD\n",
        "from keras.callbacks import TensorBoard"
      ],
      "id": "9ec024bc",
      "execution_count": 2,
      "outputs": []
    },
    {
      "cell_type": "code",
      "metadata": {
        "id": "iBdUTAetG_1S"
      },
      "source": [
        "import tensorflow as tf"
      ],
      "id": "iBdUTAetG_1S",
      "execution_count": 93,
      "outputs": []
    },
    {
      "cell_type": "code",
      "metadata": {
        "colab": {
          "base_uri": "https://localhost:8080/"
        },
        "id": "5605797b",
        "outputId": "96bf74d7-bd4a-4782-a516-b389327e23d4"
      },
      "source": [
        "df1 = pd.read_csv (\"/content/train.csv\")\n",
        "df = np.array(df1)[:,1:]\n",
        "df.shape"
      ],
      "id": "5605797b",
      "execution_count": 4,
      "outputs": [
        {
          "output_type": "execute_result",
          "data": {
            "text/plain": [
              "(745, 4)"
            ]
          },
          "metadata": {},
          "execution_count": 4
        }
      ]
    },
    {
      "cell_type": "code",
      "metadata": {
        "colab": {
          "base_uri": "https://localhost:8080/"
        },
        "id": "57cc93b3",
        "outputId": "25d3cbfc-ed19-4ff3-8509-208ff773574c"
      },
      "source": [
        "df"
      ],
      "id": "57cc93b3",
      "execution_count": 5,
      "outputs": [
        {
          "output_type": "execute_result",
          "data": {
            "text/plain": [
              "array([[1.14388639e-02, 2.69056891e-03, 1.20643741e-03, 6.94671963e-03],\n",
              "       [6.31663784e-04, 7.27739554e-03, 4.04865224e-03, 7.44992466e-05],\n",
              "       [1.78279555e-02, 2.82101461e-02, 7.75795818e-03, 7.38221318e-03],\n",
              "       ...,\n",
              "       [7.68299427e-03, 1.95758627e-03, 7.00224191e-03, 6.46675926e-03],\n",
              "       [3.39558900e-03, 1.27959071e-03, 7.62073818e-03, 1.68006760e-03],\n",
              "       [4.59119924e-03, 6.67492170e-03, 7.59995590e-03, 9.55986473e-03]])"
            ]
          },
          "metadata": {},
          "execution_count": 5
        }
      ]
    },
    {
      "cell_type": "code",
      "metadata": {
        "colab": {
          "base_uri": "https://localhost:8080/",
          "height": 265
        },
        "id": "4d42d634",
        "outputId": "619f367f-5a86-4387-a0b0-0fb164e32553"
      },
      "source": [
        "def sample_data(n_samples):\n",
        "    index = np.random.randint(len(df), size=(1, n_samples))\n",
        "    vectors = df[index,:]\n",
        "    return vectors\n",
        "\n",
        "ax = pd.DataFrame(sample_data(100)[0]).plot()"
      ],
      "id": "4d42d634",
      "execution_count": 207,
      "outputs": [
        {
          "output_type": "display_data",
          "data": {
            "image/png": "[encoded data removed]",
            "text/plain": [
              "<Figure size 432x288 with 1 Axes>"
            ]
          },
          "metadata": {
            "needs_background": "light"
          }
        }
      ]
    },
    {
      "cell_type": "code",
      "metadata": {
        "colab": {
          "base_uri": "https://localhost:8080/"
        },
        "id": "908cc0e2",
        "outputId": "9ac2b8af-bf37-4456-90f2-797526ecac35"
      },
      "source": [
        "def get_generative(G_in, dense_dim=50, out_dim=2, lr=1e-3):\n",
        "    x = Dense(dense_dim)(G_in)\n",
        "    x = Dense(128, activation='sigmoid')(x)\n",
        "    x = Dense(50, activation='sigmoid')(x)\n",
        "    x = Dense(256, activation='sigmoid')(x)\n",
        "    x = Dense(128, activation='sigmoid')(x)\n",
        "    G_out = Dense(out_dim, activation='softmax')(x)\n",
        "    G = Model(G_in, G_out)\n",
        "    opt = SGD(lr=lr)\n",
        "    G.compile(loss='binary_crossentropy', optimizer=opt)\n",
        "    return G, G_out\n",
        "\n",
        "G_in = Input(shape=[2])\n",
        "G, G_out = get_generative(G_in)\n",
        "G.summary()\n"
      ],
      "id": "908cc0e2",
      "execution_count": 208,
      "outputs": [
        {
          "output_type": "stream",
          "name": "stdout",
          "text": [
            "Model: \"model_33\"\n",
            "_________________________________________________________________\n",
            "Layer (type)                 Output Shape              Param #   \n",
            "=================================================================\n",
            "input_22 (InputLayer)        [(None, 2)]               0         \n",
            "_________________________________________________________________\n",
            "dense_109 (Dense)            (None, 50)                150       \n",
            "_________________________________________________________________\n",
            "dense_110 (Dense)            (None, 128)               6528      \n",
            "_________________________________________________________________\n",
            "dense_111 (Dense)            (None, 50)                6450      \n",
            "_________________________________________________________________\n",
            "dense_112 (Dense)            (None, 256)               13056     \n",
            "_________________________________________________________________\n",
            "dense_113 (Dense)            (None, 128)               32896     \n",
            "_________________________________________________________________\n",
            "dense_114 (Dense)            (None, 2)                 258       \n",
            "=================================================================\n",
            "Total params: 59,338\n",
            "Trainable params: 59,338\n",
            "Non-trainable params: 0\n",
            "_________________________________________________________________\n"
          ]
        },
        {
          "output_type": "stream",
          "name": "stderr",
          "text": [
            "/usr/local/lib/python3.7/dist-packages/keras/optimizer_v2/optimizer_v2.py:356: UserWarning: The `lr` argument is deprecated, use `learning_rate` instead.\n",
            "  \"The `lr` argument is deprecated, use `learning_rate` instead.\")\n"
          ]
        }
      ]
    },
    {
      "cell_type": "code",
      "metadata": {
        "colab": {
          "base_uri": "https://localhost:8080/"
        },
        "id": "382c979e",
        "outputId": "a3fcc18f-a345-4abf-ae49-ad4e1035196d"
      },
      "source": [
        "# Code sticks here yet is a good start\n",
        "\n",
        "\n",
        "def get_discriminative(D_in, lr=1e-3, drate=.25, n_channels=128, conv_sz=4, leak=.2):\n",
        "    #x = Reshape((-1, 1))(D_in)\n",
        "    #x = Conv1D(n_channels, conv_sz, activation='sigmoid')(x)\n",
        "    #x = Dropout(drate)(x)\n",
        "    #x = Flatten()(x)\n",
        "    x = Dense(n_channels, activation='sigmoid')(D_in)\n",
        "    x = Dense(n_channels+150, activation='sigmoid')(x)\n",
        "    x = Dense(n_channels+500, activation='tanh')(x)\n",
        "    D_out = Dense(1, activation='sigmoid')(x)\n",
        "    D = Model(D_in, D_out)\n",
        "    dopt = Adam(lr=lr)\n",
        "    D.compile(loss='binary_crossentropy', optimizer=dopt)\n",
        "    return D, D_out\n",
        "\n",
        "D_in = Input(shape=[2])\n",
        "D, D_out = get_discriminative(D_in)\n",
        "D.summary()"
      ],
      "id": "382c979e",
      "execution_count": 213,
      "outputs": [
        {
          "output_type": "stream",
          "name": "stdout",
          "text": [
            "Model: \"model_38\"\n",
            "_________________________________________________________________\n",
            "Layer (type)                 Output Shape              Param #   \n",
            "=================================================================\n",
            "input_27 (InputLayer)        [(None, 2)]               0         \n",
            "_________________________________________________________________\n",
            "dense_133 (Dense)            (None, 128)               384       \n",
            "_________________________________________________________________\n",
            "dense_134 (Dense)            (None, 278)               35862     \n",
            "_________________________________________________________________\n",
            "dense_135 (Dense)            (None, 628)               175212    \n",
            "_________________________________________________________________\n",
            "dense_136 (Dense)            (None, 1)                 629       \n",
            "=================================================================\n",
            "Total params: 212,087\n",
            "Trainable params: 212,087\n",
            "Non-trainable params: 0\n",
            "_________________________________________________________________\n"
          ]
        },
        {
          "output_type": "stream",
          "name": "stderr",
          "text": [
            "/usr/local/lib/python3.7/dist-packages/keras/optimizer_v2/optimizer_v2.py:356: UserWarning: The `lr` argument is deprecated, use `learning_rate` instead.\n",
            "  \"The `lr` argument is deprecated, use `learning_rate` instead.\")\n"
          ]
        }
      ]
    },
    {
      "cell_type": "code",
      "metadata": {
        "colab": {
          "base_uri": "https://localhost:8080/"
        },
        "id": "1674d057",
        "outputId": "15857a2b-0e57-421c-dda3-566f9d2999ca"
      },
      "source": [
        "def set_trainability(model, trainable=False):\n",
        "    model.trainable = trainable\n",
        "    for layer in model.layers:\n",
        "        layer.trainable = trainable\n",
        "        \n",
        "def make_gan(GAN_in, G, D):\n",
        "    set_trainability(D, False)\n",
        "    x = G(GAN_in)\n",
        "    GAN_out = D(x)\n",
        "    GAN = Model(GAN_in, GAN_out)\n",
        "    GAN.compile(loss='binary_crossentropy', optimizer=G.optimizer)\n",
        "    return GAN, GAN_out\n",
        "\n",
        "GAN_in = Input([2])\n",
        "GAN, GAN_out = make_gan(GAN_in, G, D)\n",
        "GAN.summary()"
      ],
      "id": "1674d057",
      "execution_count": 215,
      "outputs": [
        {
          "output_type": "stream",
          "name": "stdout",
          "text": [
            "Model: \"model_39\"\n",
            "_________________________________________________________________\n",
            "Layer (type)                 Output Shape              Param #   \n",
            "=================================================================\n",
            "input_29 (InputLayer)        [(None, 2)]               0         \n",
            "_________________________________________________________________\n",
            "model_33 (Functional)        (None, 2)                 59338     \n",
            "_________________________________________________________________\n",
            "model_38 (Functional)        (None, 1)                 212087    \n",
            "=================================================================\n",
            "Total params: 271,425\n",
            "Trainable params: 59,338\n",
            "Non-trainable params: 212,087\n",
            "_________________________________________________________________\n"
          ]
        }
      ]
    },
    {
      "cell_type": "code",
      "metadata": {
        "colab": {
          "base_uri": "https://localhost:8080/"
        },
        "id": "83abeddc",
        "outputId": "f904ee7a-47fd-41e1-b59a-acd7e77007f6"
      },
      "source": [
        "def sample_data_and_gen(G, noise_dim=2, n_samples=1):\n",
        "    XT = sample_data(n_samples=n_samples)[0][:,:2]\n",
        "    XN_noise = np.random.normal(0, 1, size=[n_samples, noise_dim])\n",
        "    XN = G.predict(XN_noise)\n",
        "    #print(XT,XN)\n",
        "    X = np.concatenate((XT, XN))\n",
        "\n",
        "    y = np.zeros((n_samples+len(XN),1))\n",
        "\n",
        "    y[ :n_samples, :] = 0\n",
        "    y[n_samples: , :]  = 1\n",
        "    return X, y\n",
        "\n",
        "def pretrain(G, D, noise_dim=2, n_samples=1, batch_size=62):\n",
        "    X, y = sample_data_and_gen(G, n_samples=n_samples, noise_dim=noise_dim)\n",
        "    set_trainability(D, True)\n",
        "    D.fit(X, y, epochs=1, batch_size=batch_size)\n",
        "\n",
        "pretrain(G, D)"
      ],
      "id": "83abeddc",
      "execution_count": 228,
      "outputs": [
        {
          "output_type": "stream",
          "name": "stdout",
          "text": [
            "1/1 [==============================] - 0s 469ms/step - loss: 0.7362\n"
          ]
        }
      ]
    },
    {
      "cell_type": "code",
      "metadata": {
        "colab": {
          "base_uri": "https://localhost:8080/"
        },
        "id": "M-HcGrYZch3k",
        "outputId": "b04fe006-eff5-4f19-f06e-b223a0f25143"
      },
      "source": [
        "sample_data(n_samples=1)[0][:,:2]"
      ],
      "id": "M-HcGrYZch3k",
      "execution_count": 227,
      "outputs": [
        {
          "output_type": "execute_result",
          "data": {
            "text/plain": [
              "array([[0.0125547 , 0.00384505]])"
            ]
          },
          "metadata": {},
          "execution_count": 227
        }
      ]
    },
    {
      "cell_type": "code",
      "metadata": {
        "id": "9761932b",
        "colab": {
          "base_uri": "https://localhost:8080/",
          "height": 460,
          "referenced_widgets": [
            "89d5b387958b4fa8a9160978528cabc2",
            "fdb1214cc84543f99b04bd4ee93bb4a9",
            "4e079294ef6f4faca2f693b568a384f9",
            "319966cb5e3a4a74b3ee29267cb8d452",
            "3572b8be0d314fa59da0a39fe6ebc2c4",
            "d7f579c3ca8049e39b59ca64acc4ce67",
            "178bcc901bbb40e68321b15f07310c3f",
            "7e7cc9c253514ac69d6bff22fa5c8d88",
            "f6a7c92504fc437e85fa5879f1c9ad44",
            "4ff4ac45d7804e91a03d1331b0229dc0",
            "a487f59be2c94ca69f48678702fc9ec9"
          ]
        },
        "outputId": "646f96dd-ae78-4f57-a2c6-208d6042735a"
      },
      "source": [
        "def sample_noise(G, noise_dim=2, n_samples=1):\n",
        "    X = np.random.normal(0, 1, size=[n_samples, noise_dim])\n",
        "    y = np.zeros((n_samples, 1))\n",
        "    y[:, 0] = 1\n",
        "\n",
        "    return X, y\n",
        "\n",
        "def train(GAN, G, D, epochs=1000, n_samples=1, noise_dim=2, batch_size=32, verbose=False, v_freq=50):\n",
        "    d_loss = []\n",
        "    g_loss = []\n",
        "    e_range = range(epochs)\n",
        "    if verbose:\n",
        "        e_range = tqdm(e_range)\n",
        "    for epoch in e_range:\n",
        "        X, y = sample_data_and_gen(G, n_samples=n_samples, noise_dim=noise_dim)\n",
        "        set_trainability(D, True)\n",
        "        d_loss.append(D.train_on_batch(X, y))\n",
        "        \n",
        "        X, y = sample_noise(G, n_samples=n_samples, noise_dim=noise_dim)\n",
        "        set_trainability(D, False)\n",
        "        g_loss.append(GAN.train_on_batch(X, y))\n",
        "        if verbose and (epoch + 1) % v_freq == 0:\n",
        "            print(\"Epoch #{}: Generative Loss: {}, Discriminative Loss: {}\".format(epoch + 1, g_loss[-1], d_loss[-1]))\n",
        "    return d_loss, g_loss\n",
        "\n",
        "d_loss, g_loss = train(GAN, G, D, verbose=True)"
      ],
      "id": "9761932b",
      "execution_count": 229,
      "outputs": [
        {
          "output_type": "stream",
          "name": "stderr",
          "text": [
            "/usr/local/lib/python3.7/dist-packages/ipykernel_launcher.py:13: TqdmDeprecationWarning: This function will be removed in tqdm==5.0.0\n",
            "Please use `tqdm.notebook.tqdm` instead of `tqdm.tqdm_notebook`\n",
            "  del sys.path[0]\n"
          ]
        },
        {
          "output_type": "display_data",
          "data": {
            "application/vnd.jupyter.widget-view+json": {
              "model_id": "89d5b387958b4fa8a9160978528cabc2",
              "version_minor": 0,
              "version_major": 2
            },
            "text/plain": [
              "  0%|          | 0/1000 [00:00<?, ?it/s]"
            ]
          },
          "metadata": {}
        },
        {
          "output_type": "stream",
          "name": "stdout",
          "text": [
            "Epoch #50: Generative Loss: 0.7566568851470947, Discriminative Loss: 0.6798907518386841\n",
            "Epoch #100: Generative Loss: 0.5736957788467407, Discriminative Loss: 0.5724962949752808\n",
            "Epoch #150: Generative Loss: 0.018256140872836113, Discriminative Loss: 0.024104464799165726\n",
            "Epoch #200: Generative Loss: 0.0030417735688388348, Discriminative Loss: 0.003346532816067338\n",
            "Epoch #250: Generative Loss: 0.0017516374355182052, Discriminative Loss: 0.0017552278004586697\n",
            "Epoch #300: Generative Loss: 0.0011115849483758211, Discriminative Loss: 0.0010353501420468092\n",
            "Epoch #350: Generative Loss: 0.0007464497466571629, Discriminative Loss: 0.0007296117837540805\n",
            "Epoch #400: Generative Loss: 0.0005976198008283973, Discriminative Loss: 0.00067357491934672\n",
            "Epoch #450: Generative Loss: 0.00047719807480461895, Discriminative Loss: 0.0005187720526009798\n",
            "Epoch #500: Generative Loss: 0.0003784455475397408, Discriminative Loss: 0.0003837673575617373\n",
            "Epoch #550: Generative Loss: 0.00030576970311813056, Discriminative Loss: 0.0006757196388207376\n",
            "Epoch #600: Generative Loss: 0.00025520630879327655, Discriminative Loss: 0.00024283329548779875\n",
            "Epoch #650: Generative Loss: 0.0002080736740026623, Discriminative Loss: 0.00019775664259213954\n",
            "Epoch #700: Generative Loss: 0.0001971856690943241, Discriminative Loss: 0.0001740841835271567\n",
            "Epoch #750: Generative Loss: 0.00017003885295707732, Discriminative Loss: 0.0001734684919938445\n",
            "Epoch #800: Generative Loss: 0.00014911097241565585, Discriminative Loss: 0.00017022754764184356\n",
            "Epoch #850: Generative Loss: 0.0001200686747324653, Discriminative Loss: 0.0001229055051226169\n",
            "Epoch #900: Generative Loss: 0.00011090967018390074, Discriminative Loss: 9.964765922632068e-05\n",
            "Epoch #950: Generative Loss: 9.70693799899891e-05, Discriminative Loss: 9.945459896698594e-05\n",
            "Epoch #1000: Generative Loss: 9.637760376790538e-05, Discriminative Loss: 8.000308298505843e-05\n"
          ]
        }
      ]
    },
    {
      "cell_type": "code",
      "metadata": {
        "id": "9206817e",
        "colab": {
          "base_uri": "https://localhost:8080/",
          "height": 312
        },
        "outputId": "fb7c8570-fab8-4e41-a8da-7368f523a58f"
      },
      "source": [
        "ax = pd.DataFrame(\n",
        "    {\n",
        "        'Generative Loss': g_loss,\n",
        "        'Discriminative Loss': d_loss,\n",
        "    }\n",
        ").plot(title='Training loss', logy=False)\n",
        "ax.set_xlabel(\"Epochs\")\n",
        "ax.set_ylabel(\"Loss\")\n"
      ],
      "id": "9206817e",
      "execution_count": 230,
      "outputs": [
        {
          "output_type": "execute_result",
          "data": {
            "text/plain": [
              "Text(0, 0.5, 'Loss')"
            ]
          },
          "metadata": {},
          "execution_count": 230
        },
        {
          "output_type": "display_data",
          "data": {
            "image/png": "[encoded data removed]",
            "text/plain": [
              "<Figure size 432x288 with 1 Axes>"
            ]
          },
          "metadata": {
            "needs_background": "light"
          }
        }
      ]
    },
    {
      "cell_type": "code",
      "metadata": {
        "id": "QIShCQk_BPde"
      },
      "source": [
        "test = np.random.normal(0, 1, size=[410, 2])\n",
        "print(test)\n",
        "x =pd.DataFrame(G(test).numpy())"
      ],
      "id": "QIShCQk_BPde",
      "execution_count": null,
      "outputs": []
    },
    {
      "cell_type": "code",
      "metadata": {
        "colab": {
          "base_uri": "https://localhost:8080/",
          "height": 282
        },
        "id": "7St6hfyCX0JY",
        "outputId": "cf531326-3df7-428c-d801-743fbce9191f"
      },
      "source": [
        "y =pd.DataFrame(test)\n",
        "y.plot()"
      ],
      "id": "7St6hfyCX0JY",
      "execution_count": 234,
      "outputs": [
        {
          "output_type": "execute_result",
          "data": {
            "text/plain": [
              "<matplotlib.axes._subplots.AxesSubplot at 0x7f1367ae2490>"
            ]
          },
          "metadata": {},
          "execution_count": 234
        },
        {
          "output_type": "display_data",
          "data": {
            "image/png": "[encoded data removed]",
            "text/plain": [
              "<Figure size 432x288 with 1 Axes>"
            ]
          },
          "metadata": {
            "needs_background": "light"
          }
        }
      ]
    },
    {
      "cell_type": "code",
      "metadata": {
        "id": "N5QKnnpUcBVE"
      },
      "source": [
        "G(test)"
      ],
      "id": "N5QKnnpUcBVE",
      "execution_count": null,
      "outputs": []
    }
  ]
}