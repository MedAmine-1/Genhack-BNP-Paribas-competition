{
 "cells": [
  {
   "cell_type": "code",
   "execution_count": 1,
   "metadata": {},
   "outputs": [
    {
     "data": {
      "text/plain": [
       "'c:\\\\Users\\\\HP\\\\Desktop\\\\GenHack\\\\Genhack_competition'"
      ]
     },
     "execution_count": 1,
     "metadata": {},
     "output_type": "execute_result"
    }
   ],
   "source": [
    "import os\n",
    "\n",
    "os.chdir(\"../\")\n",
    "os.getcwd()"
   ]
  },
  {
   "cell_type": "code",
   "execution_count": 2,
   "metadata": {},
   "outputs": [],
   "source": [
    "# imports\n",
    "import requests\n",
    "from bs4 import BeautifulSoup"
   ]
  },
  {
   "cell_type": "code",
   "execution_count": 3,
   "metadata": {},
   "outputs": [],
   "source": [
    "# params\n",
    "URL = \"https://competitions.outcoder.ai/leaderboards\""
   ]
  },
  {
   "cell_type": "code",
   "execution_count": 4,
   "metadata": {},
   "outputs": [],
   "source": [
    "# fetch page and build soup\n",
    "res = requests.get(URL)\n",
    "document = BeautifulSoup(res.text)"
   ]
  },
  {
   "cell_type": "code",
   "execution_count": 5,
   "metadata": {},
   "outputs": [],
   "source": [
    "# locate cols of interset\n",
    "col_anderson, col_kendall = document.find_all(\n",
    "    \"div\",\n",
    "    class_=\"w-col w-col-6 w-col-small-6 w-col-tiny-6\"\n",
    ")"
   ]
  },
  {
   "cell_type": "code",
   "execution_count": 6,
   "metadata": {},
   "outputs": [
    {
     "data": {
      "text/plain": [
       "{'team_name': {'anderson': {'board': 0, 'z-score': 0, 'real': 0},\n",
       "  'kendal_board': {'board': 0, 'z-score': 0, 'real': 0}}}"
      ]
     },
     "execution_count": 6,
     "metadata": {},
     "output_type": "execute_result"
    }
   ],
   "source": [
    "# data structure\n",
    "{\n",
    "    \"team_name\": {\n",
    "        \"anderson\": {\n",
    "            \"board\": 0,\n",
    "            \"z-score\": 0,\n",
    "            \"real\": 0\n",
    "        },\n",
    "        \"kendal_board\": {\n",
    "            \"board\": 0,\n",
    "            \"z-score\": 0,\n",
    "            \"real\": 0\n",
    "        },\n",
    "    },\n",
    "    # ...\n",
    "}"
   ]
  },
  {
   "cell_type": "code",
   "execution_count": 7,
   "metadata": {},
   "outputs": [],
   "source": [
    "# where to store scores\n",
    "leader_board = {}"
   ]
  },
  {
   "cell_type": "code",
   "execution_count": 8,
   "metadata": {},
   "outputs": [],
   "source": [
    "# split teams sections\n",
    "# for anderson\n",
    "teams_sections = col_anderson.find_all(\"div\", class_=\"w-dyn-item\")\n",
    "\n",
    "for team in teams_sections:\n",
    "    # explode content of team\n",
    "    team_content = team.find_all(\"div\", class_=\"w-col w-col-3\")\n",
    "\n",
    "    # select name and score\n",
    "    team_score = team_content[-1].text\n",
    "    team_name = team_content[-2].text\n",
    "\n",
    "    # save score \n",
    "    # add 0.001 to avoid 0 scores\n",
    "    leader_board[team_name] = { \n",
    "        \"anderson\": {\n",
    "            \"board\": float(team_score) + 0.001,\n",
    "            \"z-score\": 0,\n",
    "            \"real\": 0\n",
    "        }\n",
    "    }"
   ]
  },
  {
   "cell_type": "code",
   "execution_count": 9,
   "metadata": {},
   "outputs": [],
   "source": [
    "# do the same for kendall\n",
    "teams_sections = col_kendall.find_all(\"div\", class_=\"w-dyn-item\")\n",
    "\n",
    "for team in teams_sections:\n",
    "    # select name and score\n",
    "    team_score = team.find_all(\"div\", class_=\"w-col w-col-3\")[-1].text\n",
    "    team_name = team.find(\"div\", class_=\"column-3 w-col w-col-3\").text\n",
    "\n",
    "    # save score\n",
    "    # add 0.001 to avoid 0 scores\n",
    "    leader_board[team_name][\"kendall\"] = {\n",
    "            \"board\": float(team_score) + 0.001,\n",
    "            \"z-score\": 0,\n",
    "            \"real\": 0\n",
    "    }"
   ]
  },
  {
   "cell_type": "code",
   "execution_count": 10,
   "metadata": {},
   "outputs": [
    {
     "data": {
      "text/plain": [
       "{'Winx': {'anderson': {'board': 647.5409999999999, 'z-score': 0, 'real': 0},\n",
       "  'kendall': {'board': 747.761, 'z-score': 0, 'real': 0}},\n",
       " '5 Layers of Stonks': {'anderson': {'board': 647.3109999999999,\n",
       "   'z-score': 0,\n",
       "   'real': 0},\n",
       "  'kendall': {'board': 744.1809999999999, 'z-score': 0, 'real': 0}},\n",
       " 'DL Manjikai': {'anderson': {'board': 647.261, 'z-score': 0, 'real': 0},\n",
       "  'kendall': {'board': 742.081, 'z-score': 0, 'real': 0}},\n",
       " 'Terran': {'anderson': {'board': 647.031, 'z-score': 0, 'real': 0},\n",
       "  'kendall': {'board': 755.011, 'z-score': 0, 'real': 0}},\n",
       " 'Lbitrik': {'anderson': {'board': 646.761, 'z-score': 0, 'real': 0},\n",
       "  'kendall': {'board': 735.131, 'z-score': 0, 'real': 0}},\n",
       " 'Medieval Mates': {'anderson': {'board': 646.6709999999999,\n",
       "   'z-score': 0,\n",
       "   'real': 0},\n",
       "  'kendall': {'board': 716.881, 'z-score': 0, 'real': 0}},\n",
       " 'Random Guild': {'anderson': {'board': 645.991, 'z-score': 0, 'real': 0},\n",
       "  'kendall': {'board': 546.191, 'z-score': 0, 'real': 0}},\n",
       " 'ECES': {'anderson': {'board': 645.7909999999999, 'z-score': 0, 'real': 0},\n",
       "  'kendall': {'board': 722.231, 'z-score': 0, 'real': 0}},\n",
       " 'Team Spirit': {'anderson': {'board': 645.731, 'z-score': 0, 'real': 0},\n",
       "  'kendall': {'board': 747.351, 'z-score': 0, 'real': 0}},\n",
       " 'The Frenzy Generators': {'anderson': {'board': 645.641,\n",
       "   'z-score': 0,\n",
       "   'real': 0},\n",
       "  'kendall': {'board': 716.211, 'z-score': 0, 'real': 0}},\n",
       " 'Invisible Hand': {'anderson': {'board': 644.771, 'z-score': 0, 'real': 0},\n",
       "  'kendall': {'board': 784.191, 'z-score': 0, 'real': 0}},\n",
       " 'Approx': {'anderson': {'board': 643.9309999999999, 'z-score': 0, 'real': 0},\n",
       "  'kendall': {'board': 670.401, 'z-score': 0, 'real': 0}},\n",
       " 'Pachikaa': {'anderson': {'board': 643.201, 'z-score': 0, 'real': 0},\n",
       "  'kendall': {'board': 736.701, 'z-score': 0, 'real': 0}},\n",
       " 'NoName Guild': {'anderson': {'board': 642.621, 'z-score': 0, 'real': 0},\n",
       "  'kendall': {'board': 747.991, 'z-score': 0, 'real': 0}},\n",
       " 'Group 0.54939895': {'anderson': {'board': 642.581, 'z-score': 0, 'real': 0},\n",
       "  'kendall': {'board': 626.661, 'z-score': 0, 'real': 0}},\n",
       " 'Children of Hephaestus': {'anderson': {'board': 641.751,\n",
       "   'z-score': 0,\n",
       "   'real': 0},\n",
       "  'kendall': {'board': 705.8009999999999, 'z-score': 0, 'real': 0}},\n",
       " 'La Casa De Vinci': {'anderson': {'board': 638.851, 'z-score': 0, 'real': 0},\n",
       "  'kendall': {'board': 283.08099999999996, 'z-score': 0, 'real': 0}},\n",
       " 'Narutoð\\x9f\\x98\\x80, Sasukeð\\x9f¥¶ et Sakura ð\\x9f\\x92\\x81': {'anderson': {'board': 634.5609999999999,\n",
       "   'z-score': 0,\n",
       "   'real': 0},\n",
       "  'kendall': {'board': 709.091, 'z-score': 0, 'real': 0}},\n",
       " 'aGENcy': {'anderson': {'board': 625.411, 'z-score': 0, 'real': 0},\n",
       "  'kendall': {'board': 773.161, 'z-score': 0, 'real': 0}},\n",
       " 'Prsim 2.0': {'anderson': {'board': 617.9209999999999,\n",
       "   'z-score': 0,\n",
       "   'real': 0},\n",
       "  'kendall': {'board': 334.90099999999995, 'z-score': 0, 'real': 0}},\n",
       " 'Invicta Quant': {'anderson': {'board': 598.4209999999999,\n",
       "   'z-score': 0,\n",
       "   'real': 0},\n",
       "  'kendall': {'board': 188.821, 'z-score': 0, 'real': 0}},\n",
       " 'Data Wizards': {'anderson': {'board': 566.971, 'z-score': 0, 'real': 0},\n",
       "  'kendall': {'board': 729.141, 'z-score': 0, 'real': 0}},\n",
       " 'FinPred': {'anderson': {'board': 549.151, 'z-score': 0, 'real': 0},\n",
       "  'kendall': {'board': 465.361, 'z-score': 0, 'real': 0}},\n",
       " 'Zhow A311': {'anderson': {'board': 543.861, 'z-score': 0, 'real': 0},\n",
       "  'kendall': {'board': 654.091, 'z-score': 0, 'real': 0}},\n",
       " 'DBE': {'anderson': {'board': 522.5409999999999, 'z-score': 0, 'real': 0},\n",
       "  'kendall': {'board': 460.95099999999996, 'z-score': 0, 'real': 0}},\n",
       " 'Gen Pentagon': {'anderson': {'board': 473.411, 'z-score': 0, 'real': 0},\n",
       "  'kendall': {'board': 0.241, 'z-score': 0, 'real': 0}},\n",
       " 'The Battle-Borns': {'anderson': {'board': 469.131, 'z-score': 0, 'real': 0},\n",
       "  'kendall': {'board': 175.311, 'z-score': 0, 'real': 0}},\n",
       " 'DigIntoData': {'anderson': {'board': 381.77099999999996,\n",
       "   'z-score': 0,\n",
       "   'real': 0},\n",
       "  'kendall': {'board': 6.641, 'z-score': 0, 'real': 0}},\n",
       " 'The Tower Knight': {'anderson': {'board': 239.701, 'z-score': 0, 'real': 0},\n",
       "  'kendall': {'board': 113.191, 'z-score': 0, 'real': 0}},\n",
       " 'HIMYPrediction': {'anderson': {'board': 16.001, 'z-score': 0, 'real': 0},\n",
       "  'kendall': {'board': 205.141, 'z-score': 0, 'real': 0}},\n",
       " \"War Brother's\": {'anderson': {'board': 0.001, 'z-score': 0, 'real': 0},\n",
       "  'kendall': {'board': 307.111, 'z-score': 0, 'real': 0}}}"
      ]
     },
     "execution_count": 10,
     "metadata": {},
     "output_type": "execute_result"
    }
   ],
   "source": [
    "leader_board"
   ]
  },
  {
   "cell_type": "code",
   "execution_count": 11,
   "metadata": {},
   "outputs": [],
   "source": [
    "# compute z-scores\n",
    "from scipy.stats import norm\n",
    "\n",
    "\n",
    "# loop over teams\n",
    "for team_name, team_scores in leader_board.items():\n",
    "    # loop over scores\n",
    "    for metric_name, metric_scores in team_scores.items():\n",
    "        board_score = metric_scores[\"board\"]\n",
    "\n",
    "        leader_board[team_name][metric_name][\"z-score\"] = norm.ppf(board_score / 1000)"
   ]
  },
  {
   "cell_type": "code",
   "execution_count": 12,
   "metadata": {},
   "outputs": [
    {
     "data": {
      "text/plain": [
       "{'Winx': {'anderson': {'board': 647.5409999999999,\n",
       "   'z-score': 0.37869010787150503,\n",
       "   'real': 0},\n",
       "  'kendall': {'board': 747.761, 'z-score': 0.6674605507048509, 'real': 0}},\n",
       " '5 Layers of Stonks': {'anderson': {'board': 647.3109999999999,\n",
       "   'z-score': 0.37807079924354703,\n",
       "   'real': 0},\n",
       "  'kendall': {'board': 744.1809999999999,\n",
       "   'z-score': 0.6562893012562411,\n",
       "   'real': 0}},\n",
       " 'DL Manjikai': {'anderson': {'board': 647.261,\n",
       "   'z-score': 0.377936186127173,\n",
       "   'real': 0},\n",
       "  'kendall': {'board': 742.081, 'z-score': 0.6497743340973121, 'real': 0}},\n",
       " 'Terran': {'anderson': {'board': 647.031,\n",
       "   'z-score': 0.3773170539471422,\n",
       "   'real': 0},\n",
       "  'kendall': {'board': 755.011, 'z-score': 0.6903438155675782, 'real': 0}},\n",
       " 'Lbitrik': {'anderson': {'board': 646.761,\n",
       "   'z-score': 0.376590431092823,\n",
       "   'real': 0},\n",
       "  'kendall': {'board': 735.131, 'z-score': 0.6284060115218624, 'real': 0}},\n",
       " 'Medieval Mates': {'anderson': {'board': 646.6709999999999,\n",
       "   'z-score': 0.37634826767194224,\n",
       "   'real': 0},\n",
       "  'kendall': {'board': 716.881, 'z-score': 0.5736007561012677, 'real': 0}},\n",
       " 'Random Guild': {'anderson': {'board': 645.991,\n",
       "   'z-score': 0.37451930047324555,\n",
       "   'real': 0},\n",
       "  'kendall': {'board': 546.191, 'z-score': 0.11604358408035, 'real': 0}},\n",
       " 'ECES': {'anderson': {'board': 645.7909999999999,\n",
       "   'z-score': 0.37398160755607274,\n",
       "   'real': 0},\n",
       "  'kendall': {'board': 722.231, 'z-score': 0.5894819753060435, 'real': 0}},\n",
       " 'Team Spirit': {'anderson': {'board': 645.731,\n",
       "   'z-score': 0.37382032076975524,\n",
       "   'real': 0},\n",
       "  'kendall': {'board': 747.351, 'z-score': 0.6661769565492134, 'real': 0}},\n",
       " 'The Frenzy Generators': {'anderson': {'board': 645.641,\n",
       "   'z-score': 0.37357840882065446,\n",
       "   'real': 0},\n",
       "  'kendall': {'board': 716.211, 'z-score': 0.5716221294205992, 'real': 0}},\n",
       " 'Invisible Hand': {'anderson': {'board': 644.771,\n",
       "   'z-score': 0.3712410509755635,\n",
       "   'real': 0},\n",
       "  'kendall': {'board': 784.191, 'z-score': 0.7864259253641679, 'real': 0}},\n",
       " 'Approx': {'anderson': {'board': 643.9309999999999,\n",
       "   'z-score': 0.3689862146678936,\n",
       "   'real': 0},\n",
       "  'kendall': {'board': 670.401, 'z-score': 0.44102071558127587, 'real': 0}},\n",
       " 'Pachikaa': {'anderson': {'board': 643.201,\n",
       "   'z-score': 0.36702817740574983,\n",
       "   'real': 0},\n",
       "  'kendall': {'board': 736.701, 'z-score': 0.6332077276674294, 'real': 0}},\n",
       " 'NoName Guild': {'anderson': {'board': 642.621,\n",
       "   'z-score': 0.36547347946004227,\n",
       "   'real': 0},\n",
       "  'kendall': {'board': 747.991, 'z-score': 0.6681810973696755, 'real': 0}},\n",
       " 'Group 0.54939895': {'anderson': {'board': 642.581,\n",
       "   'z-score': 0.36536629151020483,\n",
       "   'real': 0},\n",
       "  'kendall': {'board': 626.661, 'z-score': 0.3230227669860406, 'real': 0}},\n",
       " 'Children of Hephaestus': {'anderson': {'board': 641.751,\n",
       "   'z-score': 0.36314308645595683,\n",
       "   'real': 0},\n",
       "  'kendall': {'board': 705.8009999999999,\n",
       "   'z-score': 0.541158992095203,\n",
       "   'real': 0}},\n",
       " 'La Casa De Vinci': {'anderson': {'board': 638.851,\n",
       "   'z-score': 0.35538925159273077,\n",
       "   'real': 0},\n",
       "  'kendall': {'board': 283.08099999999996,\n",
       "   'z-score': -0.5737130439680226,\n",
       "   'real': 0}},\n",
       " 'Narutoð\\x9f\\x98\\x80, Sasukeð\\x9f¥¶ et Sakura ð\\x9f\\x92\\x81': {'anderson': {'board': 634.5609999999999,\n",
       "   'z-score': 0.343957830069043,\n",
       "   'real': 0},\n",
       "  'kendall': {'board': 709.091, 'z-score': 0.5507311319733562, 'real': 0}},\n",
       " 'aGENcy': {'anderson': {'board': 625.411,\n",
       "   'z-score': 0.3197234257444766,\n",
       "   'real': 0},\n",
       "  'kendall': {'board': 773.161, 'z-score': 0.7492973577654587, 'real': 0}},\n",
       " 'Prsim 2.0': {'anderson': {'board': 617.9209999999999,\n",
       "   'z-score': 0.30002511314399527,\n",
       "   'real': 0},\n",
       "  'kendall': {'board': 334.90099999999995,\n",
       "   'z-score': -0.42641976730819664,\n",
       "   'real': 0}},\n",
       " 'Invicta Quant': {'anderson': {'board': 598.4209999999999,\n",
       "   'z-score': 0.24926215950677758,\n",
       "   'real': 0},\n",
       "  'kendall': {'board': 188.821, 'z-score': -0.8822493130745696, 'real': 0}},\n",
       " 'Data Wizards': {'anderson': {'board': 566.971,\n",
       "   'z-score': 0.16866773354960515,\n",
       "   'real': 0},\n",
       "  'kendall': {'board': 729.141, 'z-score': 0.6102171055488868, 'real': 0}},\n",
       " 'FinPred': {'anderson': {'board': 549.151,\n",
       "   'z-score': 0.12351663794324574,\n",
       "   'real': 0},\n",
       "  'kendall': {'board': 465.361, 'z-score': -0.08693648306113047, 'real': 0}},\n",
       " 'Zhow A311': {'anderson': {'board': 543.861,\n",
       "   'z-score': 0.11016565472514292,\n",
       "   'real': 0},\n",
       "  'kendall': {'board': 654.091, 'z-score': 0.39638910801047245, 'real': 0}},\n",
       " 'DBE': {'anderson': {'board': 522.5409999999999,\n",
       "   'z-score': 0.056532004976159844,\n",
       "   'real': 0},\n",
       "  'kendall': {'board': 460.95099999999996,\n",
       "   'z-score': -0.09803814993515104,\n",
       "   'real': 0}},\n",
       " 'Gen Pentagon': {'anderson': {'board': 473.411,\n",
       "   'z-score': -0.06669815894394154,\n",
       "   'real': 0},\n",
       "  'kendall': {'board': 0.241, 'z-score': -3.4905651925082446, 'real': 0}},\n",
       " 'The Battle-Borns': {'anderson': {'board': 469.131,\n",
       "   'z-score': -0.07745448268419852,\n",
       "   'real': 0},\n",
       "  'kendall': {'board': 175.311, 'z-score': -0.9333834932229108, 'real': 0}},\n",
       " 'DigIntoData': {'anderson': {'board': 381.77099999999996,\n",
       "   'z-score': -0.30083279409586305,\n",
       "   'real': 0},\n",
       "  'kendall': {'board': 6.641, 'z-score': -2.4761171196906773, 'real': 0}},\n",
       " 'The Tower Knight': {'anderson': {'board': 239.701,\n",
       "   'z-score': -0.7072646967837823,\n",
       "   'real': 0},\n",
       "  'kendall': {'board': 113.191, 'z-score': -1.2097313398517255, 'real': 0}},\n",
       " 'HIMYPrediction': {'anderson': {'board': 16.001,\n",
       "   'z-score': -2.1443856387959928,\n",
       "   'real': 0},\n",
       "  'kendall': {'board': 205.141, 'z-score': -0.8233974723387482, 'real': 0}},\n",
       " \"War Brother's\": {'anderson': {'board': 0.001,\n",
       "   'z-score': -4.753424308822899,\n",
       "   'real': 0},\n",
       "  'kendall': {'board': 307.111, 'z-score': -0.5040560360333577, 'real': 0}}}"
      ]
     },
     "execution_count": 12,
     "metadata": {},
     "output_type": "execute_result"
    }
   ],
   "source": [
    "leader_board"
   ]
  },
  {
   "cell_type": "code",
   "execution_count": 13,
   "metadata": {},
   "outputs": [],
   "source": [
    "from py_scripts.utils import save_dict\n",
    "\n",
    "save_dict(\n",
    "    leader_board,\n",
    "    \"reverse_scores/leaderboard\"\n",
    ")"
   ]
  }
 ],
 "metadata": {
  "interpreter": {
   "hash": "9d4884af4333694029f3ffe52ac74f1e85e59dd9863d231af25d3c183fd27949"
  },
  "kernelspec": {
   "display_name": "Python 3.8.12 64-bit ('another_env_test': conda)",
   "language": "python",
   "name": "python3"
  },
  "language_info": {
   "codemirror_mode": {
    "name": "ipython",
    "version": 3
   },
   "file_extension": ".py",
   "mimetype": "text/x-python",
   "name": "python",
   "nbconvert_exporter": "python",
   "pygments_lexer": "ipython3",
   "version": "3.8.5"
  },
  "orig_nbformat": 4
 },
 "nbformat": 4,
 "nbformat_minor": 2
}
